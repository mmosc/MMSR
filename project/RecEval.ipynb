{
 "cells": [
  {
   "cell_type": "markdown",
   "metadata": {},
   "source": [
    "# Evaluation of the IR System with the top ids already generated"
   ]
  },
  {
   "cell_type": "markdown",
   "metadata": {},
   "source": [
    "- Lyrics Features used\n",
    "\n",
    "- Audio Features used\n",
    "    - **blf spectral**\n",
    "\n",
    "-  Video Features used"
   ]
  },
  {
   "cell_type": "code",
   "execution_count": 10,
   "metadata": {
    "ExecuteTime": {
     "end_time": "2023-06-05T13:44:08.024241132Z",
     "start_time": "2023-06-05T13:44:00.039933893Z"
    }
   },
   "outputs": [],
   "source": [
    "from matplotlib import pyplot as plt\n",
    "from functions import *\n",
    "from recsyslearn.accuracy.metrics import NDCG"
   ]
  },
  {
   "cell_type": "code",
   "execution_count": 19,
   "outputs": [],
   "source": [
    "feature = 'bert'\n",
    "cikm_dataset = pd.read_csv(f'onion_recommendations_{feature}_cosine_inner.tsv',\n",
    "                           sep='\\t',\n",
    "                           converters={\n",
    "                               \"items\": lambda x: x.strip(\"[]\").split(\", \"),\n",
    "                               \"train_items\": lambda x: x.strip(\"[]\").split(\", \"),\n",
    "                               \"val_items\": lambda x: x.strip(\"[]\").split(\", \"),\n",
    "                               \"test_items\": lambda x: x.strip(\"[]\").split(\", \"),\n",
    "                               \"rec_items_inner\": lambda x: x.strip(\"[]\").split(\", \"),\n",
    "                               \"rec_items_cosine\": lambda x: x.strip(\"[]\").split(\", \"),\n",
    "                           })"
   ],
   "metadata": {
    "collapsed": false,
    "ExecuteTime": {
     "end_time": "2023-06-05T14:33:49.139791170Z",
     "start_time": "2023-06-05T14:33:48.652111906Z"
    }
   }
  },
  {
   "cell_type": "code",
   "execution_count": 20,
   "outputs": [],
   "source": [
    "cikm_dataset['rank'] = [np.arange(1, 101) for i in range(len(cikm_dataset))]"
   ],
   "metadata": {
    "collapsed": false,
    "ExecuteTime": {
     "end_time": "2023-06-05T14:33:52.084441305Z",
     "start_time": "2023-06-05T14:33:52.071359241Z"
    }
   }
  },
  {
   "cell_type": "code",
   "execution_count": 21,
   "outputs": [],
   "source": [
    "ndcg = NDCG()"
   ],
   "metadata": {
    "collapsed": false,
    "ExecuteTime": {
     "end_time": "2023-06-05T14:33:52.950935837Z",
     "start_time": "2023-06-05T14:33:52.946779245Z"
    }
   }
  },
  {
   "cell_type": "code",
   "execution_count": 22,
   "outputs": [],
   "source": [
    "cosine_recs = cikm_dataset[['user', 'rec_items_cosine', 'rank']].explode(column=['rec_items_cosine', 'rank'])\n",
    "cosine_recs.columns = ['user', 'item', 'rank']"
   ],
   "metadata": {
    "collapsed": false,
    "ExecuteTime": {
     "end_time": "2023-06-05T14:33:57.205229191Z",
     "start_time": "2023-06-05T14:33:56.721795686Z"
    }
   }
  },
  {
   "cell_type": "code",
   "execution_count": 23,
   "outputs": [],
   "source": [
    "inner_recs = cikm_dataset[['user', 'rec_items_inner', 'rank']].explode(column=['rec_items_inner', 'rank'])\n",
    "inner_recs.columns = ['user', 'item', 'rank']"
   ],
   "metadata": {
    "collapsed": false,
    "ExecuteTime": {
     "end_time": "2023-06-05T14:33:58.205666509Z",
     "start_time": "2023-06-05T14:33:57.737033633Z"
    }
   }
  },
  {
   "cell_type": "code",
   "execution_count": 24,
   "outputs": [],
   "source": [
    "pos_items = cikm_dataset[['user', 'test_items']].copy()\n",
    "pos_items['test_items'] = pos_items['test_items'].apply(lambda x: np.array(x))\n",
    "pos_items.columns = ['user', 'pos_items']"
   ],
   "metadata": {
    "collapsed": false,
    "ExecuteTime": {
     "end_time": "2023-06-05T14:33:59.218187026Z",
     "start_time": "2023-06-05T14:33:59.191180151Z"
    }
   }
  },
  {
   "cell_type": "code",
   "execution_count": 25,
   "outputs": [
    {
     "name": "stderr",
     "output_type": "stream",
     "text": [
      "/tmp/ipykernel_25705/3515543807.py:1: FutureWarning: The default value of numeric_only in DataFrame.mean is deprecated. In a future version, it will default to False. In addition, specifying 'numeric_only=None' is deprecated. Select only valid columns or specify the value of numeric_only to silence this warning.\n",
      "  ndcg.evaluate(\n"
     ]
    },
    {
     "data": {
      "text/plain": "NDCG@1      0.000216\nNDCG@5      0.000124\nNDCG@10     0.000132\nNDCG@100    0.000507\ndtype: float64"
     },
     "execution_count": 25,
     "metadata": {},
     "output_type": "execute_result"
    }
   ],
   "source": [
    "ndcg.evaluate(\n",
    "    top_n=cosine_recs,\n",
    "    pos_items=pos_items,\n",
    "    ats=(1, 5, 10, 100),\n",
    ").mean()"
   ],
   "metadata": {
    "collapsed": false,
    "ExecuteTime": {
     "end_time": "2023-06-05T14:34:03.441810755Z",
     "start_time": "2023-06-05T14:34:00.379910003Z"
    }
   }
  },
  {
   "cell_type": "code",
   "execution_count": 17,
   "outputs": [
    {
     "name": "stderr",
     "output_type": "stream",
     "text": [
      "/tmp/ipykernel_25705/3515543807.py:1: FutureWarning: The default value of numeric_only in DataFrame.mean is deprecated. In a future version, it will default to False. In addition, specifying 'numeric_only=None' is deprecated. Select only valid columns or specify the value of numeric_only to silence this warning.\n",
      "  ndcg.evaluate(\n"
     ]
    },
    {
     "data": {
      "text/plain": "NDCG@1      0.001008\nNDCG@5      0.000863\nNDCG@10     0.000875\nNDCG@100    0.003409\ndtype: float64"
     },
     "execution_count": 8,
     "metadata": {},
     "output_type": "execute_result"
    },
    {
     "name": "stderr",
     "output_type": "stream",
     "text": [
      "/tmp/ipykernel_25705/3515543807.py:1: FutureWarning: The default value of numeric_only in DataFrame.mean is deprecated. In a future version, it will default to False. In addition, specifying 'numeric_only=None' is deprecated. Select only valid columns or specify the value of numeric_only to silence this warning.\n",
      "  ndcg.evaluate(\n"
     ]
    },
    {
     "data": {
      "text/plain": "NDCG@1      0.001008\nNDCG@5      0.000863\nNDCG@10     0.000875\nNDCG@100    0.003409\ndtype: float64"
     },
     "execution_count": 17,
     "metadata": {},
     "output_type": "execute_result"
    }
   ],
   "source": [
    "ndcg.evaluate(\n",
    "    top_n=cosine_recs,\n",
    "    pos_items=pos_items,\n",
    "    ats=(1, 5, 10, 100),\n",
    ").mean()"
   ],
   "metadata": {
    "collapsed": false,
    "ExecuteTime": {
     "end_time": "2023-06-05T13:44:12.785966999Z",
     "start_time": "2023-06-05T13:44:01.953436261Z"
    }
   }
  },
  {
   "cell_type": "code",
   "execution_count": 26,
   "outputs": [
    {
     "name": "stderr",
     "output_type": "stream",
     "text": [
      "/tmp/ipykernel_25705/3084350463.py:1: FutureWarning: The default value of numeric_only in DataFrame.mean is deprecated. In a future version, it will default to False. In addition, specifying 'numeric_only=None' is deprecated. Select only valid columns or specify the value of numeric_only to silence this warning.\n",
      "  ndcg.evaluate(\n"
     ]
    },
    {
     "data": {
      "text/plain": "NDCG@1      0.000000\nNDCG@5      0.000057\nNDCG@10     0.000087\nNDCG@100    0.000698\ndtype: float64"
     },
     "execution_count": 26,
     "metadata": {},
     "output_type": "execute_result"
    }
   ],
   "source": [
    "ndcg.evaluate(\n",
    "    top_n=inner_recs,\n",
    "    pos_items=pos_items,\n",
    "    ats=(1, 5, 10, 100),\n",
    ").mean()"
   ],
   "metadata": {
    "collapsed": false,
    "ExecuteTime": {
     "end_time": "2023-06-05T14:34:14.261404128Z",
     "start_time": "2023-06-05T14:34:11.237231689Z"
    }
   }
  },
  {
   "cell_type": "code",
   "execution_count": 18,
   "outputs": [
    {
     "name": "stderr",
     "output_type": "stream",
     "text": [
      "/tmp/ipykernel_25705/1097978361.py:1: FutureWarning: The default value of numeric_only in DataFrame.mean is deprecated. In a future version, it will default to False. In addition, specifying 'numeric_only=None' is deprecated. Select only valid columns or specify the value of numeric_only to silence this warning.\n",
      "  ndcg.evaluate(\n"
     ]
    },
    {
     "data": {
      "text/plain": "NDCG@1      0.000216\nNDCG@5      0.000174\nNDCG@10     0.000200\nNDCG@100    0.001521\ndtype: float64"
     },
     "execution_count": 9,
     "metadata": {},
     "output_type": "execute_result"
    },
    {
     "name": "stderr",
     "output_type": "stream",
     "text": [
      "/tmp/ipykernel_25705/1097978361.py:1: FutureWarning: The default value of numeric_only in DataFrame.mean is deprecated. In a future version, it will default to False. In addition, specifying 'numeric_only=None' is deprecated. Select only valid columns or specify the value of numeric_only to silence this warning.\n",
      "  ndcg.evaluate(\n"
     ]
    },
    {
     "data": {
      "text/plain": "NDCG@1      0.000216\nNDCG@5      0.000174\nNDCG@10     0.000200\nNDCG@100    0.001521\ndtype: float64"
     },
     "execution_count": 18,
     "metadata": {},
     "output_type": "execute_result"
    }
   ],
   "source": [
    "ndcg.evaluate(\n",
    "    top_n=inner_recs,\n",
    "    pos_items=pos_items,\n",
    "    ats=(1, 5, 10, 100),\n",
    ").mean()"
   ],
   "metadata": {
    "collapsed": false,
    "ExecuteTime": {
     "end_time": "2023-06-05T13:44:15.747043966Z",
     "start_time": "2023-06-05T13:44:04.853787408Z"
    }
   }
  }
 ],
 "metadata": {
  "kernelspec": {
   "display_name": "Python3 (new)",
   "language": "python",
   "name": "python3"
  },
  "language_info": {
   "codemirror_mode": {
    "name": "ipython",
    "version": 3
   },
   "file_extension": ".py",
   "mimetype": "text/x-python",
   "name": "python",
   "nbconvert_exporter": "python",
   "pygments_lexer": "ipython3",
   "version": "3.8.13"
  },
  "widgets": {
   "application/vnd.jupyter.widget-state+json": {
    "state": {},
    "version_major": 2,
    "version_minor": 0
   }
  }
 },
 "nbformat": 4,
 "nbformat_minor": 4
}
