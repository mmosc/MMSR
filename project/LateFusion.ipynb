{
 "cells": [
  {
   "cell_type": "code",
   "execution_count": null,
   "id": "6538db3a-12f5-4a4f-b5cb-e43d824d493e",
   "metadata": {},
   "outputs": [],
   "source": [
    "import pandas as pd\n",
    "import datatable as dt\n",
    "\n",
    "# Variables that contains the file location\n",
    "from files import *\n",
    "from functions import *"
   ]
  },
  {
   "cell_type": "code",
   "execution_count": null,
   "id": "aaea0caa-e0a9-4176-9eaf-a37c81774924",
   "metadata": {},
   "outputs": [],
   "source": [
    "# if we modify the file we need to reload it with this\n",
    "import importlib\n",
    "import functions  #import the module here, so that it can be reloaded.\n",
    "\n",
    "importlib.reload(functions)"
   ]
  },
  {
   "cell_type": "code",
   "execution_count": null,
   "outputs": [],
   "source": [
    "DATA_TYPE = np.float16"
   ],
   "metadata": {
    "collapsed": false
   }
  },
  {
   "cell_type": "markdown",
   "id": "036e350e-d054-4adb-a464-e9e24ff41273",
   "metadata": {},
   "source": [
    "# Data\n",
    "Load the Data"
   ]
  },
  {
   "cell_type": "code",
   "execution_count": null,
   "outputs": [],
   "source": [
    "genres = dt.fread(file_genres_2).to_pandas()\n",
    "genres.set_index('id', inplace=True)"
   ],
   "metadata": {
    "collapsed": false
   }
  },
  {
   "cell_type": "code",
   "execution_count": null,
   "outputs": [],
   "source": [
    "# Our special child\n",
    "blf_logfluc = dt.fread(file_blf_logfluc)\n",
    "blf_logfluc[dt.float64] = dt.float32\n",
    "new_cols = ['id']\n",
    "new_cols.extend(list(blf_logfluc.names[2:]))\n",
    "new_cols = tuple(new_cols)\n",
    "del blf_logfluc[:, -1]\n",
    "blf_logfluc.names = new_cols\n",
    "blf_logfluc = blf_logfluc.to_pandas()\n",
    "blf_logfluc.set_index('id', inplace=True)"
   ],
   "metadata": {
    "collapsed": false
   }
  },
  {
   "cell_type": "code",
   "execution_count": null,
   "outputs": [],
   "source": [
    "files = [\n",
    "    # Lyrics\n",
    "    file_tfidf_2,\n",
    "    file_word2vec_2,\n",
    "    file_bert_2,\n",
    "    # Audio\n",
    "    file_essentia,\n",
    "    file_blf_correlation,\n",
    "    file_blf_deltaspectral,\n",
    "    file_blf_spectral,\n",
    "    file_blf_spectralcontrast,\n",
    "    file_blf_vardeltaspectral,\n",
    "    file_blf_logfluc,\n",
    "    blf_logfluc,\n",
    "    file_mfcc_bow,\n",
    "    file_mfcc_stats,\n",
    "    # Video\n",
    "    file_incp,\n",
    "    file_resnet,\n",
    "    file_vgg19,\n",
    "]"
   ],
   "metadata": {
    "collapsed": false
   }
  },
  {
   "cell_type": "code",
   "execution_count": null,
   "outputs": [],
   "source": [
    "import csv\n",
    "\n",
    "# Load the data, using pandas csv reader instead of datatables to get access to float16\n",
    "data = []\n",
    "for file in tqdm(files, desc=\"Loading data\"):\n",
    "    if type(file) == str:\n",
    "        with open(file, \"r\") as f:\n",
    "            column_names = next(csv.reader(f, delimiter=\"\\t\"))\n",
    "        dtypes = {\n",
    "            x: DATA_TYPE\n",
    "            for x in column_names\n",
    "            if x != \"id\"\n",
    "        }\n",
    "        file = pd.read_csv(file, dtype=dtypes, index_col=0, delimiter=\"\\t\")\n",
    "    data.append(file)"
   ],
   "metadata": {
    "collapsed": false
   }
  },
  {
   "cell_type": "code",
   "execution_count": null,
   "outputs": [],
   "source": [
    "# Extract readable names\n",
    "names = []\n",
    "for file in files:\n",
    "    if type(file) == str:\n",
    "        names.append(file.replace(\"./../task2/id_\", \"\").replace(\".tsv\", \"\"))\n",
    "    else:\n",
    "        names.append(\"blf_logfluc\")"
   ],
   "metadata": {
    "collapsed": false
   }
  },
  {
   "cell_type": "code",
   "execution_count": null,
   "outputs": [],
   "source": [
    "for name, file in zip(names, data):\n",
    "    print(name, file.shape)"
   ],
   "metadata": {
    "collapsed": false
   }
  },
  {
   "cell_type": "markdown",
   "id": "cfc9d4d7-d725-485e-a4aa-05c7dcb56423",
   "metadata": {},
   "source": [
    "# Late Fusion"
   ]
  },
  {
   "cell_type": "code",
   "execution_count": null,
   "outputs": [],
   "source": [
    "def compute_in_batches(arr_a: np.array, arr_b: np.array, simfunction, batches: int = 1):\n",
    "    # arr_a: full Data array\n",
    "    # arr_b: full Data array arr_a or just some songs\n",
    "    # batches: split arr_b into chunks for multiprocess and less RAM usage\n",
    "    splits_b = np.array_split(arr_b, batches, axis=0)\n",
    "    r = []\n",
    "    for b in tqdm(splits_b):\n",
    "        r.append(simfunction(arr_a, b).astype(DATA_TYPE))\n",
    "    return np.concatenate(r, axis=1, dtype=DATA_TYPE)"
   ],
   "metadata": {
    "collapsed": false
   }
  },
  {
   "cell_type": "code",
   "execution_count": null,
   "outputs": [],
   "source": [
    "def compute_in_batches_topIds(results: np.array, idx_values: np.array, top: int = 100, batches: int = 1):\n",
    "    splits_b = np.array_split(results, batches, axis=0)\n",
    "    return np.concatenate([idx_values[np.argsort(b * -1, axis=1)][:, :top] for b in tqdm(splits_b)], axis=0)"
   ],
   "metadata": {
    "collapsed": false
   }
  },
  {
   "cell_type": "code",
   "execution_count": null,
   "outputs": [],
   "source": [
    "accumulated_similarity = np.zeros((len(data[0]), len(data[0])), dtype=DATA_TYPE)\n",
    "\n",
    "# for every data\n",
    "for d in tqdm(data, desc=\"Processing\"):\n",
    "    file = d.to_numpy().astype(np.float32)\n",
    "    result = compute_in_batches(file, file, simfunction=get_cosine_similarity, batches=100)\n",
    "    result = np.linalg.norm(result)\n",
    "    accumulated_similarity += result"
   ],
   "metadata": {
    "collapsed": false
   }
  },
  {
   "cell_type": "markdown",
   "source": [
    "# Find optimal feature similarity weights"
   ],
   "metadata": {
    "collapsed": false
   }
  },
  {
   "cell_type": "code",
   "execution_count": null,
   "outputs": [],
   "source": [
    "subset = np.random.choice(len(data[0]), 1024 * 4, replace=False)\n",
    "subset.shape"
   ],
   "metadata": {
    "collapsed": false
   }
  },
  {
   "cell_type": "code",
   "execution_count": null,
   "outputs": [],
   "source": [
    "subset_ids = data[0].index.values[subset]\n",
    "\n",
    "similarities = []\n",
    "functions = [get_cosine_similarity, get_jaccard_similarity]\n",
    "\n",
    "# for every data\n",
    "for d in tqdm(data, desc=\"Processing\"):\n",
    "    file = d.to_numpy()[subset, :].astype(np.float32)\n",
    "    for f in functions:\n",
    "        result = np.nan_to_num(f(file, file), 0)\n",
    "        n = np.linalg.norm(result)\n",
    "        if n != 0:\n",
    "            result = result / n\n",
    "            similarities.append(result)\n",
    "\n",
    "print(f\"{len(similarities)} similarity matrices\")"
   ],
   "metadata": {
    "collapsed": false
   }
  },
  {
   "cell_type": "code",
   "execution_count": null,
   "outputs": [],
   "source": [
    "def evaluate(similarities, weights):\n",
    "    if len(similarities) == 1:\n",
    "        accumulated_similarity = similarities[0]\n",
    "    else:\n",
    "        accumulated_similarity = np.zeros((len(subset), len(subset)), dtype=DATA_TYPE)\n",
    "        for sim, weight in zip(similarities, weights):\n",
    "            accumulated_similarity += (sim * weight)\n",
    "\n",
    "    top_ids = pd.DataFrame(compute_in_batches_topIds(accumulated_similarity, subset_ids, 100, 10), subset_ids)\n",
    "\n",
    "    return {\n",
    "        \"MAP@10\": meanAveragePrecision(top_ids, 10, genres),\n",
    "        \"MAP@100\": meanAveragePrecision(top_ids, 100, genres),\n",
    "        \"MRR@10\": meanReciprocalRank(top_ids, 10, genres),\n",
    "        \"MRR@100\": meanReciprocalRank(top_ids, 100, genres),\n",
    "        \"NDCG@10\": ndcgMean(top_ids, 10, genres)[1],\n",
    "        \"NDCG@100\": ndcgMean(top_ids, 100, genres)[1],\n",
    "    }"
   ],
   "metadata": {
    "collapsed": false
   }
  },
  {
   "cell_type": "code",
   "execution_count": null,
   "outputs": [],
   "source": [
    "print(\"Baseline\", evaluate(similarities, np.zeros((len(similarities),))))"
   ],
   "metadata": {
    "collapsed": false
   }
  },
  {
   "cell_type": "code",
   "execution_count": null,
   "outputs": [],
   "source": [
    "print(\"Fair\", evaluate(similarities, np.ones((len(similarities),))))"
   ],
   "metadata": {
    "collapsed": false
   }
  },
  {
   "cell_type": "code",
   "execution_count": null,
   "outputs": [],
   "source": [
    "weights = np.zeros((len(similarities),))\n",
    "for i, sim in enumerate(similarities):\n",
    "    weights[i] = np.nan_to_num(np.asarray(list(evaluate([sim], [1]).values())), 0).sum()\n",
    "print(weights)"
   ],
   "metadata": {
    "collapsed": false
   }
  },
  {
   "cell_type": "code",
   "execution_count": null,
   "outputs": [],
   "source": [
    "print(\"Performance\", evaluate(similarities, weights))"
   ],
   "metadata": {
    "collapsed": false
   }
  },
  {
   "cell_type": "code",
   "execution_count": null,
   "outputs": [],
   "source": [
    "norm_weights = (weights - weights.min()) / (weights.max() - weights.min())\n",
    "print(norm_weights)\n",
    "print(\"Normalized Performance\", evaluate(similarities, norm_weights))"
   ],
   "metadata": {
    "collapsed": false
   }
  },
  {
   "cell_type": "markdown",
   "source": [
    "# Final Processing\n",
    "Normalized Performance seems to be the best approach"
   ],
   "metadata": {
    "collapsed": false
   }
  },
  {
   "cell_type": "code",
   "execution_count": null,
   "outputs": [],
   "source": [
    "final_ids = data[0].index.values\n",
    "final_accumulated_similarity = np.zeros((len(final_ids), len(final_ids)), dtype=np.float32)\n",
    "functions = [get_cosine_similarity, get_jaccard_similarity]\n",
    "\n",
    "# for every data\n",
    "i = 0\n",
    "for d in tqdm(data, desc=\"Processing\"):\n",
    "    file = d.to_numpy().astype(np.float32)\n",
    "    for f in functions:\n",
    "        result = np.nan_to_num(f(file, file), 0)\n",
    "        n = np.linalg.norm(result)\n",
    "        if n != 0:\n",
    "            result = result / n\n",
    "            final_accumulated_similarity += (result * norm_weights[i])\n",
    "            i += 1"
   ],
   "metadata": {
    "collapsed": false
   }
  },
  {
   "cell_type": "code",
   "execution_count": null,
   "outputs": [],
   "source": [
    "top_ids = pd.DataFrame(compute_in_batches_topIds(final_accumulated_similarity, final_ids, 100, 100), final_ids)\n",
    "\n",
    "results = {\n",
    "    \"MAP@10\": meanAveragePrecision(top_ids, 10, genres),\n",
    "    \"MAP@100\": meanAveragePrecision(top_ids, 100, genres),\n",
    "    \"MRR@10\": meanReciprocalRank(top_ids, 10, genres),\n",
    "    \"MRR@100\": meanReciprocalRank(top_ids, 100, genres),\n",
    "    \"NDCG@10\": ndcgMean(top_ids, 10, genres)[1],\n",
    "    \"NDCG@100\": ndcgMean(top_ids, 100, genres)[1],\n",
    "}"
   ],
   "metadata": {
    "collapsed": false
   }
  },
  {
   "cell_type": "code",
   "execution_count": null,
   "outputs": [],
   "source": [
    "results"
   ],
   "metadata": {
    "collapsed": false
   }
  },
  {
   "cell_type": "code",
   "execution_count": null,
   "outputs": [],
   "source": [
    "dt.Frame(pd.DataFrame(top_ids, index=final_ids).reset_index()).to_csv('./top_ids_late_fusion.csv')"
   ],
   "metadata": {
    "collapsed": false
   }
  }
 ],
 "metadata": {
  "kernelspec": {
   "display_name": "Python 3 (ipykernel)",
   "language": "python",
   "name": "python3"
  },
  "language_info": {
   "codemirror_mode": {
    "name": "ipython",
    "version": 3
   },
   "file_extension": ".py",
   "mimetype": "text/x-python",
   "name": "python",
   "nbconvert_exporter": "python",
   "pygments_lexer": "ipython3",
   "version": "3.9.13"
  },
  "widgets": {
   "application/vnd.jupyter.widget-state+json": {
    "state": {},
    "version_major": 2,
    "version_minor": 0
   }
  }
 },
 "nbformat": 4,
 "nbformat_minor": 5
}
