{
 "cells": [
  {
   "cell_type": "code",
   "execution_count": 1,
   "metadata": {
    "ExecuteTime": {
     "end_time": "2023-05-31T07:36:39.599447312Z",
     "start_time": "2023-05-31T07:36:39.371210390Z"
    }
   },
   "outputs": [
    {
     "data": {
      "text/plain": "<IPython.core.display.HTML object>",
      "text/html": "<style type='text/css'>\n.datatable table.frame { margin-bottom: 0; }\n.datatable table.frame thead { border-bottom: none; }\n.datatable table.frame tr.coltypes td {  color: #FFFFFF;  line-height: 6px;  padding: 0 0.5em;}\n.datatable .bool    { background: #DDDD99; }\n.datatable .object  { background: #565656; }\n.datatable .int     { background: #5D9E5D; }\n.datatable .float   { background: #4040CC; }\n.datatable .str     { background: #CC4040; }\n.datatable .time    { background: #40CC40; }\n.datatable .row_index {  background: var(--jp-border-color3);  border-right: 1px solid var(--jp-border-color0);  color: var(--jp-ui-font-color3);  font-size: 9px;}\n.datatable .frame tbody td { text-align: left; }\n.datatable .frame tr.coltypes .row_index {  background: var(--jp-border-color0);}\n.datatable th:nth-child(2) { padding-left: 12px; }\n.datatable .hellipsis {  color: var(--jp-cell-editor-border-color);}\n.datatable .vellipsis {  background: var(--jp-layout-color0);  color: var(--jp-cell-editor-border-color);}\n.datatable .na {  color: var(--jp-cell-editor-border-color);  font-size: 80%;}\n.datatable .sp {  opacity: 0.25;}\n.datatable .footer { font-size: 9px; }\n.datatable .frame_dimensions {  background: var(--jp-border-color3);  border-top: 1px solid var(--jp-border-color0);  color: var(--jp-ui-font-color3);  display: inline-block;  opacity: 0.6;  padding: 1px 10px 1px 5px;}\n</style>\n"
     },
     "metadata": {},
     "output_type": "display_data"
    }
   ],
   "source": [
    "import datatable as dt\n",
    "# Variables that contains the file location\n",
    "from files import *\n",
    "from functions import *\n",
    "\n",
    "import random\n",
    "random.seed(42)\n",
    "\n",
    "from tqdm import tqdm\n",
    "tqdm.pandas()"
   ]
  },
  {
   "cell_type": "code",
   "execution_count": 2,
   "metadata": {
    "ExecuteTime": {
     "end_time": "2023-05-31T07:36:40.413099322Z",
     "start_time": "2023-05-31T07:36:40.408751603Z"
    }
   },
   "outputs": [],
   "source": [
    "# Datatype used to reduce memory required\n",
    "DTYPE = np.float32"
   ]
  },
  {
   "cell_type": "code",
   "execution_count": 3,
   "metadata": {
    "ExecuteTime": {
     "end_time": "2023-05-31T07:37:27.331437147Z",
     "start_time": "2023-05-31T07:37:27.291096340Z"
    }
   },
   "outputs": [],
   "source": [
    "# string ids are inefficient, let's use integers and a lookup table\n",
    "def getRelationIdsToNumbers(df):\n",
    "    no_ids = len(df.index.values)\n",
    "    return dict(zip(df.index.values, list(range(no_ids)))), np.arange(no_ids)\n",
    "\n",
    "\n",
    "def change_id_to_keys(df, id_to_keys):\n",
    "    df.set_index(np.asarray([id_to_keys[i] for i in df.index.values]), inplace=True)\n",
    "    df.index.astype(np.int32, copy=False)\n",
    "    df.index.name = \"id\"\n",
    "\n",
    "\n",
    "def split_list_train_val_set(\n",
    "        list_,\n",
    "        training_ratio=0.6,\n",
    "        validation_ratio=0.2,\n",
    "        test_ratio=0.2,\n",
    "        randomize=True,\n",
    "):\n",
    "    if training_ratio + validation_ratio + test_ratio != 1.:\n",
    "        raise ValueError(\"Splits do not add up to 1.\")\n",
    "    if randomize:\n",
    "        #use sample instead of random since the latter shuffles in place\n",
    "        list_ = random.sample(list_, len(list_))\n",
    "    total_interactions = len(list_)\n",
    "    training_set = list_[:int(total_interactions * training_ratio)]  #get first 80% of file list\n",
    "    validation_set = list_[int(total_interactions * training_ratio):int(\n",
    "        total_interactions * (training_ratio + validation_ratio))]\n",
    "    test_set = list_[int(total_interactions * (training_ratio + validation_ratio)):]\n",
    "\n",
    "    return training_set, validation_set, test_set\n",
    "\n",
    "\n",
    "def recommend_top_average_numpy(data: np.array, simfunction, listened_items, top: int = 100):\n",
    "    mean_feat = np.expand_dims(data[listened_items, :].mean(axis=0), axis=0)\n",
    "\n",
    "    ### Calculate similarities\n",
    "    results = simfunction(data, mean_feat)\n",
    "\n",
    "    ### Get Tops\n",
    "    # Set the distance to the same document to -1 because we dont want it at the start.\n",
    "    results[listened_items] = -1\n",
    "    # Get the document indices instead of the distances\n",
    "    top_values = np.argsort(results * -1, axis=0).flatten()\n",
    "\n",
    "    return top_values[:top]\n",
    "\n",
    "\n",
    "def recommend_top_average_pandas(data: pd.DataFrame, listened_items, top: int = 100):\n",
    "    \"\"\"\n",
    "    Given a list of ids (that have been listened to by a user)\n",
    "    it aggregates the features of the corresponding items\n",
    "    and then retrieves the most similar tracks to the aggregated version.\n",
    "    :param data:\n",
    "    :param listened_items:\n",
    "    :param top:\n",
    "    :return: recommended_tracks\n",
    "    \"\"\"\n",
    "    # Calculate the average over listened items\n",
    "    mean_feat = data.iloc[listened_items].mean()\n",
    "    # Exclude the listened items from recommendations\n",
    "    target_feat = data.loc[~data.index.isin(listened_items)]\n",
    "    recommended_tracks = target_feat.dot(mean_feat).sort_values(ascending=False)[:top].index\n",
    "\n",
    "    return recommended_tracks"
   ]
  },
  {
   "cell_type": "code",
   "execution_count": 4,
   "metadata": {
    "ExecuteTime": {
     "end_time": "2023-05-31T07:37:32.343740153Z",
     "start_time": "2023-05-31T07:37:32.248280107Z"
    }
   },
   "outputs": [],
   "source": [
    "# To save memory we converted the original indices to new indices with only numbers.\n",
    "# The following function create those ids or if they already exists loads them\n",
    "# The ids have to be similar in all dataframes to have consistency, \n",
    "# for that we use the info indexes as base for all dataframes\n",
    "\n",
    "file_original_new_ids = \"./data/relation_original_new_ids.csv\"\n",
    "\n",
    "info = dt.fread(file_info_2).to_pandas().set_index('id')\n",
    "id_to_key, indexes = getRelationIdsToNumbers(info)\n",
    "\n",
    "if exists(file_original_new_ids):\n",
    "    relation_ids = pd.read_csv(file_original_new_ids).set_index('original').astype(DTYPE)\n",
    "else:\n",
    "\n",
    "    relation_ids = pd.DataFrame(columns=['original', 'newId'])\n",
    "    relation_ids['original'] = list(id_to_key.keys())\n",
    "    relation_ids['newId'] = list(id_to_key.values())\n",
    "    relation_ids.set_index('original', inplace=True)\n",
    "    relation_ids = relation_ids.astype(DTYPE)\n",
    "    relation_ids.to_csv(file_original_new_ids)"
   ]
  },
  {
   "cell_type": "markdown",
   "metadata": {},
   "source": [
    "## Load datasets\n",
    "\n",
    "Now after having a relation of original ids to new ids, we can load the datasets"
   ]
  },
  {
   "cell_type": "code",
   "execution_count": 5,
   "outputs": [],
   "source": [
    "blf_spectral = dt.fread(file_blf_spectral, header=True).to_pandas().set_index('id').astype(DTYPE)"
   ],
   "metadata": {
    "collapsed": false,
    "ExecuteTime": {
     "end_time": "2023-05-31T07:37:57.554684398Z",
     "start_time": "2023-05-31T07:37:57.237326232Z"
    }
   }
  },
  {
   "cell_type": "code",
   "execution_count": 6,
   "metadata": {
    "ExecuteTime": {
     "end_time": "2023-05-31T07:38:02.768231207Z",
     "start_time": "2023-05-31T07:38:02.743865444Z"
    }
   },
   "outputs": [],
   "source": [
    "datasets = {\n",
    "    #    \"tfidf\" : tf_idf,\n",
    "    #    \"word2vec\" : word2vec,\n",
    "    #    \"bert\" : bert,\n",
    "    #    \"mfcc_bow\" : mfcc_bow,\n",
    "    #    \"mfcc_stats\" : mfcc_stats,\n",
    "    #    \"essentia\" : essentia,\n",
    "    #    \"blf_delta_spectral\" : blf_deltaspectral,\n",
    "    #    \"blf_correlation\" : blf_correlation,\n",
    "    #    \"blf_logfluc\" : blf_logfluc,\n",
    "    \"blf_spectral\": blf_spectral,\n",
    "    #    \"blf_spectral_contrast\" : blf_spectralcontrast,\n",
    "    #    \"blf_vardelta_spectral\" : blf_vardeltaspectral,\n",
    "    #    \"incp\" : incp,\n",
    "    #    \"vgg19\" : vgg19,\n",
    "    #    \"resnet\" : resnet,\n",
    "}"
   ]
  },
  {
   "cell_type": "markdown",
   "metadata": {},
   "source": [
    "#### Change the original ids to the new ids of the loaded datasets"
   ]
  },
  {
   "cell_type": "code",
   "execution_count": 7,
   "metadata": {
    "ExecuteTime": {
     "end_time": "2023-05-31T07:38:07.018229371Z",
     "start_time": "2023-05-31T07:38:07.010646196Z"
    }
   },
   "outputs": [],
   "source": [
    "for df in datasets.keys():\n",
    "    change_id_to_keys(datasets[df], id_to_key)"
   ]
  },
  {
   "cell_type": "code",
   "execution_count": 8,
   "metadata": {
    "scrolled": true,
    "ExecuteTime": {
     "end_time": "2023-05-31T07:38:13.956260652Z",
     "start_time": "2023-05-31T07:38:13.913234581Z"
    }
   },
   "outputs": [
    {
     "name": "stdout",
     "output_type": "stream",
     "text": [
      "Feature blf_spectral (68641, 980)\n"
     ]
    }
   ],
   "source": [
    "for df in datasets.keys():\n",
    "    print(f\"Feature {df}\", datasets[df].shape)"
   ]
  },
  {
   "cell_type": "markdown",
   "metadata": {},
   "source": [
    "# Function to compute distance and only retrieve the top ids"
   ]
  },
  {
   "cell_type": "code",
   "execution_count": 9,
   "outputs": [
    {
     "data": {
      "text/plain": "0        [42, 85, 380, 434, 892, 1582, 1639, 1996, 2329...\n1        [1255, 2118, 3534, 4423, 5536, 6173, 6656, 716...\n2        [1280, 2338, 2918, 5955, 6404, 8146, 12544, 14...\n3        [329, 490, 520, 623, 1310, 4128, 5199, 5506, 7...\n4        [839, 2254, 2894, 2942, 3187, 3401, 4531, 5467...\n                               ...                        \n14113    [1249, 3323, 3958, 6404, 11812, 12840, 14389, ...\n14114    [488, 960, 1255, 1690, 1950, 3495, 3606, 4416,...\n14115    [3495, 3829, 4423, 5041, 6138, 6428, 7418, 809...\n14116    [241, 574, 4501, 6128, 6201, 7127, 7649, 8298,...\n14117    [653, 1244, 4032, 6305, 6787, 9273, 12492, 133...\nName: items, Length: 13884, dtype: object"
     },
     "execution_count": 9,
     "metadata": {},
     "output_type": "execute_result"
    }
   ],
   "source": [
    "# Listening events of the music4all CIKM submission\n",
    "user_core = 10\n",
    "dataset_path = \"/home/marta/jku/cikm/data/matching/binarized_listening_history_filtered.tsv\"\n",
    "cikm_dataset = dt.fread(dataset_path).to_pandas().drop(columns='timestamp').groupby('user')['item'].apply(\n",
    "    list).reset_index(name='items')\n",
    "cikm_dataset['items'] = cikm_dataset['items'].apply(\n",
    "    lambda x: [id_to_key.get(item) for item in x if id_to_key.get(item) is not None])\n",
    "user_core_mask = cikm_dataset['items'].apply(lambda x: len(x) >= user_core)\n",
    "cikm_dataset = cikm_dataset[user_core_mask]\n",
    "\n",
    "cikm_dataset['items']"
   ],
   "metadata": {
    "collapsed": false,
    "ExecuteTime": {
     "end_time": "2023-05-31T07:38:25.722845481Z",
     "start_time": "2023-05-31T07:38:25.029763675Z"
    }
   }
  },
  {
   "cell_type": "code",
   "execution_count": 10,
   "outputs": [],
   "source": [
    "cikm_dataset[['train_items', 'val_items', 'test_items']] = pd.DataFrame(cikm_dataset['items'].apply(split_list_train_val_set).tolist(), index=cikm_dataset.index)"
   ],
   "metadata": {
    "collapsed": false,
    "ExecuteTime": {
     "end_time": "2023-05-31T07:38:36.730893176Z",
     "start_time": "2023-05-31T07:38:36.500475808Z"
    }
   }
  },
  {
   "cell_type": "code",
   "execution_count": 13,
   "outputs": [
    {
     "name": "stdout",
     "output_type": "stream",
     "text": [
      "CPU times: user 45.5 ms, sys: 13 µs, total: 45.5 ms\n",
      "Wall time: 44.1 ms\n"
     ]
    },
    {
     "data": {
      "text/plain": "85"
     },
     "execution_count": 13,
     "metadata": {},
     "output_type": "execute_result"
    }
   ],
   "source": [
    "%%time\n",
    "len(set(recommend_top_average_numpy(\n",
    "     blf_spectral.to_numpy(dtype=DTYPE),\n",
    "     get_innerProduct_similarity,\n",
    "     cikm_dataset['train_items'][0],\n",
    "     top=100\n",
    ")).intersection(set(recommend_top_average_numpy(\n",
    "     blf_spectral.to_numpy(dtype=DTYPE),\n",
    "     get_innerProduct_similarity,\n",
    "     cikm_dataset['train_items'][1],\n",
    "     top=100\n",
    "))))"
   ],
   "metadata": {
    "collapsed": false,
    "ExecuteTime": {
     "end_time": "2023-05-31T07:39:11.569026720Z",
     "start_time": "2023-05-31T07:39:11.521857152Z"
    }
   }
  },
  {
   "cell_type": "code",
   "execution_count": null,
   "outputs": [],
   "source": [],
   "metadata": {
    "collapsed": false
   }
  },
  {
   "cell_type": "code",
   "execution_count": 16,
   "outputs": [
    {
     "name": "stdout",
     "output_type": "stream",
     "text": [
      "CPU times: user 90.9 ms, sys: 35 ms, total: 126 ms\n",
      "Wall time: 124 ms\n"
     ]
    },
    {
     "name": "stderr",
     "output_type": "stream",
     "text": [
      "/tmp/ipykernel_16126/2674755808.py:59: FutureWarning: The behavior of `series[i:j]` with an integer-dtype index is deprecated. In a future version, this will be treated as *label-based* indexing, consistent with e.g. `series[i]` lookups. To retain the old behavior, use `series.iloc[i:j]`. To get the future behavior, use `series.loc[i:j]`.\n",
      "  recommended_tracks = target_feat.dot(mean_feat).sort_values(ascending=False)[:top].index\n"
     ]
    },
    {
     "data": {
      "text/plain": "100"
     },
     "execution_count": 16,
     "metadata": {},
     "output_type": "execute_result"
    }
   ],
   "source": [
    "%%time\n",
    "len(set(recommend_top_average_numpy(\n",
    "     blf_spectral.to_numpy(dtype=DTYPE),\n",
    "     get_innerProduct_similarity,\n",
    "     cikm_dataset['train_items'][1],\n",
    "     top=100\n",
    ")).intersection(set(recommend_top_average_pandas(\n",
    "        data=blf_spectral,\n",
    "        listened_items=cikm_dataset['train_items'][1],\n",
    "        top=100\n",
    "))))"
   ],
   "metadata": {
    "collapsed": false,
    "ExecuteTime": {
     "end_time": "2023-05-31T07:41:12.099821231Z",
     "start_time": "2023-05-31T07:41:11.972530208Z"
    }
   }
  },
  {
   "cell_type": "code",
   "execution_count": 14,
   "outputs": [
    {
     "name": "stdout",
     "output_type": "stream",
     "text": [
      "CPU times: user 137 ms, sys: 62.8 ms, total: 199 ms\n",
      "Wall time: 201 ms\n"
     ]
    },
    {
     "name": "stderr",
     "output_type": "stream",
     "text": [
      "/tmp/ipykernel_16126/2674755808.py:59: FutureWarning: The behavior of `series[i:j]` with an integer-dtype index is deprecated. In a future version, this will be treated as *label-based* indexing, consistent with e.g. `series[i]` lookups. To retain the old behavior, use `series.iloc[i:j]`. To get the future behavior, use `series.loc[i:j]`.\n",
      "  recommended_tracks = target_feat.dot(mean_feat).sort_values(ascending=False)[:top].index\n"
     ]
    },
    {
     "data": {
      "text/plain": "85"
     },
     "execution_count": 14,
     "metadata": {},
     "output_type": "execute_result"
    }
   ],
   "source": [
    "%%time\n",
    "len(set(recommend_top_average_pandas(\n",
    "        data=blf_spectral,\n",
    "        listened_items=cikm_dataset['train_items'][0],\n",
    "        top=100\n",
    ")).intersection(set(recommend_top_average_pandas(\n",
    "        data=blf_spectral,\n",
    "        listened_items=cikm_dataset['train_items'][1],\n",
    "        top=100\n",
    "))))"
   ],
   "metadata": {
    "collapsed": false,
    "ExecuteTime": {
     "end_time": "2023-05-31T07:39:39.802863798Z",
     "start_time": "2023-05-31T07:39:39.599496694Z"
    }
   }
  },
  {
   "cell_type": "code",
   "execution_count": 15,
   "outputs": [],
   "source": [
    "blf_spectral_numpy = blf_spectral.to_numpy()"
   ],
   "metadata": {
    "collapsed": false,
    "ExecuteTime": {
     "end_time": "2023-05-31T07:40:40.215582401Z",
     "start_time": "2023-05-31T07:40:40.174222082Z"
    }
   }
  },
  {
   "cell_type": "code",
   "execution_count": null,
   "outputs": [
    {
     "name": "stderr",
     "output_type": "stream",
     "text": [
      " 55%|█████▍    | 7592/13884 [02:21<01:55, 54.36it/s]"
     ]
    }
   ],
   "source": [
    "cikm_dataset['rec_items_inner'] = cikm_dataset['train_items'].progress_apply(\n",
    "    lambda x: recommend_top_average_numpy(\n",
    "        data=blf_spectral_numpy,\n",
    "        listened_items=x,\n",
    "        simfunction=get_innerProduct_similarity,\n",
    "        top=100,\n",
    "))"
   ],
   "metadata": {
    "collapsed": false,
    "is_executing": true,
    "ExecuteTime": {
     "start_time": "2023-05-31T07:44:12.692361281Z"
    }
   }
  },
  {
   "cell_type": "code",
   "execution_count": null,
   "outputs": [],
   "source": [
    "cikm_dataset.to_csv('onion_recommendations.tsv', sep='\\t', index=None)"
   ],
   "metadata": {
    "collapsed": false,
    "is_executing": true
   }
  },
  {
   "cell_type": "code",
   "execution_count": null,
   "outputs": [],
   "source": [
    "cikm_dataset['rec_items_inner'] = cikm_dataset['train_items'].progress_apply(\n",
    "    lambda x: recommend_top_average_numpy(\n",
    "        data=blf_spectral_numpy,\n",
    "        listened_items=x,\n",
    "        simfunction=get_cosine_similarity,\n",
    "        top=100,\n",
    "))"
   ],
   "metadata": {
    "collapsed": false,
    "is_executing": true
   }
  },
  {
   "cell_type": "code",
   "execution_count": null,
   "outputs": [],
   "source": [
    "cikm_dataset.to_csv('onion_recommendations.tsv', sep='\\t', index=None)"
   ],
   "metadata": {
    "collapsed": false,
    "is_executing": true
   }
  },
  {
   "cell_type": "code",
   "execution_count": null,
   "outputs": [],
   "source": [],
   "metadata": {
    "collapsed": false
   }
  }
 ],
 "metadata": {
  "kernelspec": {
   "display_name": "Python3 (new)",
   "language": "python",
   "name": "python3"
  },
  "language_info": {
   "codemirror_mode": {
    "name": "ipython",
    "version": 3
   },
   "file_extension": ".py",
   "mimetype": "text/x-python",
   "name": "python",
   "nbconvert_exporter": "python",
   "pygments_lexer": "ipython3",
   "version": "3.8.13"
  },
  "widgets": {
   "application/vnd.jupyter.widget-state+json": {
    "state": {},
    "version_major": 2,
    "version_minor": 0
   }
  }
 },
 "nbformat": 4,
 "nbformat_minor": 4
}
