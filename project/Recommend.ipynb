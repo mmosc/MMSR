{
 "cells": [
  {
   "cell_type": "code",
   "execution_count": 3,
   "metadata": {
    "ExecuteTime": {
     "end_time": "2023-05-26T13:07:49.857878604Z",
     "start_time": "2023-05-26T13:07:49.381787648Z"
    }
   },
   "outputs": [
    {
     "data": {
      "text/plain": "<IPython.core.display.HTML object>",
      "text/html": "<style type='text/css'>\n.datatable table.frame { margin-bottom: 0; }\n.datatable table.frame thead { border-bottom: none; }\n.datatable table.frame tr.coltypes td {  color: #FFFFFF;  line-height: 6px;  padding: 0 0.5em;}\n.datatable .bool    { background: #DDDD99; }\n.datatable .object  { background: #565656; }\n.datatable .int     { background: #5D9E5D; }\n.datatable .float   { background: #4040CC; }\n.datatable .str     { background: #CC4040; }\n.datatable .time    { background: #40CC40; }\n.datatable .row_index {  background: var(--jp-border-color3);  border-right: 1px solid var(--jp-border-color0);  color: var(--jp-ui-font-color3);  font-size: 9px;}\n.datatable .frame tbody td { text-align: left; }\n.datatable .frame tr.coltypes .row_index {  background: var(--jp-border-color0);}\n.datatable th:nth-child(2) { padding-left: 12px; }\n.datatable .hellipsis {  color: var(--jp-cell-editor-border-color);}\n.datatable .vellipsis {  background: var(--jp-layout-color0);  color: var(--jp-cell-editor-border-color);}\n.datatable .na {  color: var(--jp-cell-editor-border-color);  font-size: 80%;}\n.datatable .sp {  opacity: 0.25;}\n.datatable .footer { font-size: 9px; }\n.datatable .frame_dimensions {  background: var(--jp-border-color3);  border-top: 1px solid var(--jp-border-color0);  color: var(--jp-ui-font-color3);  display: inline-block;  opacity: 0.6;  padding: 1px 10px 1px 5px;}\n</style>\n"
     },
     "metadata": {},
     "output_type": "display_data"
    }
   ],
   "source": [
    "\n",
    "import datatable as dt\n",
    "# Variables that contains the file location\n",
    "from files import *\n",
    "from functions import *"
   ]
  },
  {
   "cell_type": "code",
   "execution_count": 2,
   "metadata": {
    "ExecuteTime": {
     "end_time": "2023-05-26T12:11:51.802080899Z",
     "start_time": "2023-05-26T12:11:51.776552316Z"
    }
   },
   "outputs": [],
   "source": [
    "# Datatype used to reduce memory required\n",
    "DTYPE = np.float32"
   ]
  },
  {
   "cell_type": "code",
   "execution_count": 3,
   "metadata": {
    "ExecuteTime": {
     "end_time": "2023-05-26T12:11:51.835256439Z",
     "start_time": "2023-05-26T12:11:51.777515342Z"
    }
   },
   "outputs": [],
   "source": [
    "# string ids are inefficient, let's use integers and a lookup table\n",
    "def getRelationIdsToNumbers(df):\n",
    "    no_ids = len(df.index.values)\n",
    "    return dict(zip(df.index.values, list(range(no_ids)))), np.arange(no_ids)\n",
    "\n",
    "def change_id_to_keys(df, id_to_keys):\n",
    "    df.set_index(np.asarray([id_to_keys[i] for i in df.index.values]), inplace=True)\n",
    "    df.index.astype(np.int32, copy=False)\n",
    "    df.index.name = \"id\""
   ]
  },
  {
   "cell_type": "code",
   "execution_count": 4,
   "metadata": {
    "ExecuteTime": {
     "end_time": "2023-05-26T12:11:52.074134976Z",
     "start_time": "2023-05-26T12:11:51.802539830Z"
    }
   },
   "outputs": [],
   "source": [
    "# To save memory we converted the original indices to new indices with only numbers.\n",
    "# The following function create those ids or if they already exists loads them\n",
    "# The ids have to be similar in all dataframes to have consistency, \n",
    "# for that we use the info indexes as base for all dataframes\n",
    "\n",
    "file_original_new_ids = \"./data/relation_original_new_ids.csv\"\n",
    "\n",
    "info  = dt.fread(file_info_2).to_pandas().set_index('id')\n",
    "id_to_key, indexes = getRelationIdsToNumbers(info)\n",
    "\n",
    "\n",
    "if exists(file_original_new_ids):\n",
    "    relation_ids = pd.read_csv(file_original_new_ids).set_index('original').astype(DTYPE)\n",
    "else:\n",
    "    \n",
    "    relation_ids = pd.DataFrame(columns=['original', 'newId'])\n",
    "    relation_ids['original'] = list(id_to_key.keys())\n",
    "    relation_ids['newId'] = list(id_to_key.values())\n",
    "    relation_ids.set_index('original', inplace=True)\n",
    "    relation_ids = relation_ids.astype(DTYPE)\n",
    "    relation_ids.to_csv(file_original_new_ids)"
   ]
  },
  {
   "cell_type": "code",
   "execution_count": 5,
   "metadata": {
    "ExecuteTime": {
     "end_time": "2023-05-26T12:11:52.128908379Z",
     "start_time": "2023-05-26T12:11:52.023095954Z"
    }
   },
   "outputs": [
    {
     "data": {
      "text/plain": "                  newId\noriginal               \n0009fFIM1eYThaPg    0.0\n0010xmHR6UICBOYT    1.0",
      "text/html": "<div>\n<style scoped>\n    .dataframe tbody tr th:only-of-type {\n        vertical-align: middle;\n    }\n\n    .dataframe tbody tr th {\n        vertical-align: top;\n    }\n\n    .dataframe thead th {\n        text-align: right;\n    }\n</style>\n<table border=\"1\" class=\"dataframe\">\n  <thead>\n    <tr style=\"text-align: right;\">\n      <th></th>\n      <th>newId</th>\n    </tr>\n    <tr>\n      <th>original</th>\n      <th></th>\n    </tr>\n  </thead>\n  <tbody>\n    <tr>\n      <th>0009fFIM1eYThaPg</th>\n      <td>0.0</td>\n    </tr>\n    <tr>\n      <th>0010xmHR6UICBOYT</th>\n      <td>1.0</td>\n    </tr>\n  </tbody>\n</table>\n</div>"
     },
     "execution_count": 5,
     "metadata": {},
     "output_type": "execute_result"
    }
   ],
   "source": [
    "# Relation of original id, to new id\n",
    "relation_ids.head(2)"
   ]
  },
  {
   "cell_type": "markdown",
   "metadata": {},
   "source": [
    "## Load datasets\n",
    "\n",
    "Now after having a relation of original ids to new ids, we can load the datasets"
   ]
  },
  {
   "cell_type": "code",
   "execution_count": 7,
   "outputs": [],
   "source": [
    "\n",
    "blf_spectral         = dt.fread(file_blf_spectral, header=True).to_pandas().set_index('id').astype(DTYPE)"
   ],
   "metadata": {
    "collapsed": false,
    "ExecuteTime": {
     "end_time": "2023-05-26T12:11:53.624291993Z",
     "start_time": "2023-05-26T12:11:52.147369632Z"
    }
   }
  },
  {
   "cell_type": "code",
   "execution_count": 8,
   "outputs": [
    {
     "data": {
      "text/plain": "                  BLF_SPEC0000  BLF_SPEC0001  BLF_SPEC0002  BLF_SPEC0003  \\\nid                                                                         \n0009fFIM1eYThaPg     -0.021460     -0.017230     -0.013651     -0.010841   \n0010xmHR6UICBOYT     -0.015971     -0.011813     -0.008262     -0.006075   \n002Jyd0vN4HyCpqL     -0.031292     -0.027408     -0.024437     -0.022585   \n006TYKNjNxWjfKjy     -0.026226     -0.020437     -0.017091     -0.014997   \n007LIJOPQ4Sb98qV     -0.030571     -0.027113     -0.023412     -0.021092   \n...                        ...           ...           ...           ...   \nzzx8CWdM7qkxKQpC     -0.008507     -0.007632     -0.006980     -0.006499   \nzzyb5LvKJTWLVnrk     -0.013039     -0.008594     -0.005242     -0.003475   \nzzz0n04uuTUA7fNh     -0.019679     -0.013652     -0.010467     -0.007722   \nzzznMjZAKnJJXQSj     -0.023609     -0.019298     -0.015960     -0.013821   \nzzzwh2ktIWjsR7xp     -0.007416     -0.006601     -0.005646     -0.004606   \n\n                  BLF_SPEC0004  BLF_SPEC0005  BLF_SPEC0006  BLF_SPEC0007  \\\nid                                                                         \n0009fFIM1eYThaPg     -0.008861     -0.006210     -0.004352     -0.002953   \n0010xmHR6UICBOYT     -0.004016     -0.001755     -0.000327      0.000765   \n002Jyd0vN4HyCpqL     -0.020734     -0.019001     -0.016573     -0.014984   \n006TYKNjNxWjfKjy     -0.012571     -0.010764     -0.009016     -0.007655   \n007LIJOPQ4Sb98qV     -0.019181     -0.016823     -0.014973     -0.013623   \n...                        ...           ...           ...           ...   \nzzx8CWdM7qkxKQpC     -0.006107     -0.005328     -0.004778     -0.004196   \nzzyb5LvKJTWLVnrk     -0.000889     -0.000050      0.001697      0.003320   \nzzz0n04uuTUA7fNh     -0.006534     -0.003744     -0.002786      0.000261   \nzzznMjZAKnJJXQSj     -0.011858     -0.010505     -0.007782     -0.005596   \nzzzwh2ktIWjsR7xp     -0.004123     -0.003386     -0.002925     -0.001288   \n\n                  BLF_SPEC0008  BLF_SPEC0009  ...  BLF_SPEC0970  BLF_SPEC0971  \\\nid                                            ...                               \n0009fFIM1eYThaPg     -0.001022      0.001472  ...     -0.014418     -0.012594   \n0010xmHR6UICBOYT      0.005019      0.007121  ...     -0.037724     -0.036631   \n002Jyd0vN4HyCpqL     -0.012862     -0.010895  ...     -0.033851     -0.033016   \n006TYKNjNxWjfKjy     -0.004926     -0.002946  ...     -0.022048     -0.021373   \n007LIJOPQ4Sb98qV     -0.011772     -0.009829  ...     -0.016440     -0.015750   \n...                        ...           ...  ...           ...           ...   \nzzx8CWdM7qkxKQpC     -0.003391     -0.002375  ...     -0.022113     -0.020828   \nzzyb5LvKJTWLVnrk      0.005534      0.007092  ...     -0.021782     -0.018594   \nzzz0n04uuTUA7fNh      0.001674      0.004614  ...     -0.010651     -0.009944   \nzzznMjZAKnJJXQSj     -0.003299     -0.000732  ...     -0.013456     -0.011406   \nzzzwh2ktIWjsR7xp      0.000143      0.001571  ...     -0.012354     -0.010790   \n\n                  BLF_SPEC0972  BLF_SPEC0973  BLF_SPEC0974  BLF_SPEC0975  \\\nid                                                                         \n0009fFIM1eYThaPg     -0.010883     -0.009404     -0.007405     -0.004714   \n0010xmHR6UICBOYT     -0.033416     -0.025909     -0.019597     -0.014301   \n002Jyd0vN4HyCpqL     -0.032165     -0.031635     -0.031027     -0.030402   \n006TYKNjNxWjfKjy     -0.020522     -0.019261     -0.018786     -0.017677   \n007LIJOPQ4Sb98qV     -0.014590     -0.014135     -0.013179     -0.012625   \n...                        ...           ...           ...           ...   \nzzx8CWdM7qkxKQpC     -0.019674     -0.018529     -0.017750     -0.017105   \nzzyb5LvKJTWLVnrk     -0.017796     -0.015881     -0.014963     -0.013843   \nzzz0n04uuTUA7fNh     -0.009250     -0.008561     -0.007822     -0.006463   \nzzznMjZAKnJJXQSj     -0.010718     -0.009863     -0.009205     -0.008743   \nzzzwh2ktIWjsR7xp     -0.009263     -0.007942     -0.007384     -0.006649   \n\n                  BLF_SPEC0976  BLF_SPEC0977  BLF_SPEC0978  BLF_SPEC0979  \nid                                                                        \n0009fFIM1eYThaPg     -0.001504      0.001562      0.002280      0.003981  \n0010xmHR6UICBOYT     -0.008480     -0.005743     -0.002760     -0.001834  \n002Jyd0vN4HyCpqL     -0.029791     -0.029393     -0.028596     -0.027498  \n006TYKNjNxWjfKjy     -0.016329     -0.015060     -0.013350     -0.011999  \n007LIJOPQ4Sb98qV     -0.011895     -0.010558     -0.008714     -0.006631  \n...                        ...           ...           ...           ...  \nzzx8CWdM7qkxKQpC     -0.015854     -0.014755     -0.013779     -0.012756  \nzzyb5LvKJTWLVnrk     -0.010778     -0.009325     -0.006056     -0.004453  \nzzz0n04uuTUA7fNh     -0.005218     -0.004602     -0.003833     -0.002630  \nzzznMjZAKnJJXQSj     -0.008279     -0.007691     -0.007015     -0.006289  \nzzzwh2ktIWjsR7xp     -0.006250     -0.005226     -0.004812     -0.004049  \n\n[68641 rows x 980 columns]",
      "text/html": "<div>\n<style scoped>\n    .dataframe tbody tr th:only-of-type {\n        vertical-align: middle;\n    }\n\n    .dataframe tbody tr th {\n        vertical-align: top;\n    }\n\n    .dataframe thead th {\n        text-align: right;\n    }\n</style>\n<table border=\"1\" class=\"dataframe\">\n  <thead>\n    <tr style=\"text-align: right;\">\n      <th></th>\n      <th>BLF_SPEC0000</th>\n      <th>BLF_SPEC0001</th>\n      <th>BLF_SPEC0002</th>\n      <th>BLF_SPEC0003</th>\n      <th>BLF_SPEC0004</th>\n      <th>BLF_SPEC0005</th>\n      <th>BLF_SPEC0006</th>\n      <th>BLF_SPEC0007</th>\n      <th>BLF_SPEC0008</th>\n      <th>BLF_SPEC0009</th>\n      <th>...</th>\n      <th>BLF_SPEC0970</th>\n      <th>BLF_SPEC0971</th>\n      <th>BLF_SPEC0972</th>\n      <th>BLF_SPEC0973</th>\n      <th>BLF_SPEC0974</th>\n      <th>BLF_SPEC0975</th>\n      <th>BLF_SPEC0976</th>\n      <th>BLF_SPEC0977</th>\n      <th>BLF_SPEC0978</th>\n      <th>BLF_SPEC0979</th>\n    </tr>\n    <tr>\n      <th>id</th>\n      <th></th>\n      <th></th>\n      <th></th>\n      <th></th>\n      <th></th>\n      <th></th>\n      <th></th>\n      <th></th>\n      <th></th>\n      <th></th>\n      <th></th>\n      <th></th>\n      <th></th>\n      <th></th>\n      <th></th>\n      <th></th>\n      <th></th>\n      <th></th>\n      <th></th>\n      <th></th>\n      <th></th>\n    </tr>\n  </thead>\n  <tbody>\n    <tr>\n      <th>0009fFIM1eYThaPg</th>\n      <td>-0.021460</td>\n      <td>-0.017230</td>\n      <td>-0.013651</td>\n      <td>-0.010841</td>\n      <td>-0.008861</td>\n      <td>-0.006210</td>\n      <td>-0.004352</td>\n      <td>-0.002953</td>\n      <td>-0.001022</td>\n      <td>0.001472</td>\n      <td>...</td>\n      <td>-0.014418</td>\n      <td>-0.012594</td>\n      <td>-0.010883</td>\n      <td>-0.009404</td>\n      <td>-0.007405</td>\n      <td>-0.004714</td>\n      <td>-0.001504</td>\n      <td>0.001562</td>\n      <td>0.002280</td>\n      <td>0.003981</td>\n    </tr>\n    <tr>\n      <th>0010xmHR6UICBOYT</th>\n      <td>-0.015971</td>\n      <td>-0.011813</td>\n      <td>-0.008262</td>\n      <td>-0.006075</td>\n      <td>-0.004016</td>\n      <td>-0.001755</td>\n      <td>-0.000327</td>\n      <td>0.000765</td>\n      <td>0.005019</td>\n      <td>0.007121</td>\n      <td>...</td>\n      <td>-0.037724</td>\n      <td>-0.036631</td>\n      <td>-0.033416</td>\n      <td>-0.025909</td>\n      <td>-0.019597</td>\n      <td>-0.014301</td>\n      <td>-0.008480</td>\n      <td>-0.005743</td>\n      <td>-0.002760</td>\n      <td>-0.001834</td>\n    </tr>\n    <tr>\n      <th>002Jyd0vN4HyCpqL</th>\n      <td>-0.031292</td>\n      <td>-0.027408</td>\n      <td>-0.024437</td>\n      <td>-0.022585</td>\n      <td>-0.020734</td>\n      <td>-0.019001</td>\n      <td>-0.016573</td>\n      <td>-0.014984</td>\n      <td>-0.012862</td>\n      <td>-0.010895</td>\n      <td>...</td>\n      <td>-0.033851</td>\n      <td>-0.033016</td>\n      <td>-0.032165</td>\n      <td>-0.031635</td>\n      <td>-0.031027</td>\n      <td>-0.030402</td>\n      <td>-0.029791</td>\n      <td>-0.029393</td>\n      <td>-0.028596</td>\n      <td>-0.027498</td>\n    </tr>\n    <tr>\n      <th>006TYKNjNxWjfKjy</th>\n      <td>-0.026226</td>\n      <td>-0.020437</td>\n      <td>-0.017091</td>\n      <td>-0.014997</td>\n      <td>-0.012571</td>\n      <td>-0.010764</td>\n      <td>-0.009016</td>\n      <td>-0.007655</td>\n      <td>-0.004926</td>\n      <td>-0.002946</td>\n      <td>...</td>\n      <td>-0.022048</td>\n      <td>-0.021373</td>\n      <td>-0.020522</td>\n      <td>-0.019261</td>\n      <td>-0.018786</td>\n      <td>-0.017677</td>\n      <td>-0.016329</td>\n      <td>-0.015060</td>\n      <td>-0.013350</td>\n      <td>-0.011999</td>\n    </tr>\n    <tr>\n      <th>007LIJOPQ4Sb98qV</th>\n      <td>-0.030571</td>\n      <td>-0.027113</td>\n      <td>-0.023412</td>\n      <td>-0.021092</td>\n      <td>-0.019181</td>\n      <td>-0.016823</td>\n      <td>-0.014973</td>\n      <td>-0.013623</td>\n      <td>-0.011772</td>\n      <td>-0.009829</td>\n      <td>...</td>\n      <td>-0.016440</td>\n      <td>-0.015750</td>\n      <td>-0.014590</td>\n      <td>-0.014135</td>\n      <td>-0.013179</td>\n      <td>-0.012625</td>\n      <td>-0.011895</td>\n      <td>-0.010558</td>\n      <td>-0.008714</td>\n      <td>-0.006631</td>\n    </tr>\n    <tr>\n      <th>...</th>\n      <td>...</td>\n      <td>...</td>\n      <td>...</td>\n      <td>...</td>\n      <td>...</td>\n      <td>...</td>\n      <td>...</td>\n      <td>...</td>\n      <td>...</td>\n      <td>...</td>\n      <td>...</td>\n      <td>...</td>\n      <td>...</td>\n      <td>...</td>\n      <td>...</td>\n      <td>...</td>\n      <td>...</td>\n      <td>...</td>\n      <td>...</td>\n      <td>...</td>\n      <td>...</td>\n    </tr>\n    <tr>\n      <th>zzx8CWdM7qkxKQpC</th>\n      <td>-0.008507</td>\n      <td>-0.007632</td>\n      <td>-0.006980</td>\n      <td>-0.006499</td>\n      <td>-0.006107</td>\n      <td>-0.005328</td>\n      <td>-0.004778</td>\n      <td>-0.004196</td>\n      <td>-0.003391</td>\n      <td>-0.002375</td>\n      <td>...</td>\n      <td>-0.022113</td>\n      <td>-0.020828</td>\n      <td>-0.019674</td>\n      <td>-0.018529</td>\n      <td>-0.017750</td>\n      <td>-0.017105</td>\n      <td>-0.015854</td>\n      <td>-0.014755</td>\n      <td>-0.013779</td>\n      <td>-0.012756</td>\n    </tr>\n    <tr>\n      <th>zzyb5LvKJTWLVnrk</th>\n      <td>-0.013039</td>\n      <td>-0.008594</td>\n      <td>-0.005242</td>\n      <td>-0.003475</td>\n      <td>-0.000889</td>\n      <td>-0.000050</td>\n      <td>0.001697</td>\n      <td>0.003320</td>\n      <td>0.005534</td>\n      <td>0.007092</td>\n      <td>...</td>\n      <td>-0.021782</td>\n      <td>-0.018594</td>\n      <td>-0.017796</td>\n      <td>-0.015881</td>\n      <td>-0.014963</td>\n      <td>-0.013843</td>\n      <td>-0.010778</td>\n      <td>-0.009325</td>\n      <td>-0.006056</td>\n      <td>-0.004453</td>\n    </tr>\n    <tr>\n      <th>zzz0n04uuTUA7fNh</th>\n      <td>-0.019679</td>\n      <td>-0.013652</td>\n      <td>-0.010467</td>\n      <td>-0.007722</td>\n      <td>-0.006534</td>\n      <td>-0.003744</td>\n      <td>-0.002786</td>\n      <td>0.000261</td>\n      <td>0.001674</td>\n      <td>0.004614</td>\n      <td>...</td>\n      <td>-0.010651</td>\n      <td>-0.009944</td>\n      <td>-0.009250</td>\n      <td>-0.008561</td>\n      <td>-0.007822</td>\n      <td>-0.006463</td>\n      <td>-0.005218</td>\n      <td>-0.004602</td>\n      <td>-0.003833</td>\n      <td>-0.002630</td>\n    </tr>\n    <tr>\n      <th>zzznMjZAKnJJXQSj</th>\n      <td>-0.023609</td>\n      <td>-0.019298</td>\n      <td>-0.015960</td>\n      <td>-0.013821</td>\n      <td>-0.011858</td>\n      <td>-0.010505</td>\n      <td>-0.007782</td>\n      <td>-0.005596</td>\n      <td>-0.003299</td>\n      <td>-0.000732</td>\n      <td>...</td>\n      <td>-0.013456</td>\n      <td>-0.011406</td>\n      <td>-0.010718</td>\n      <td>-0.009863</td>\n      <td>-0.009205</td>\n      <td>-0.008743</td>\n      <td>-0.008279</td>\n      <td>-0.007691</td>\n      <td>-0.007015</td>\n      <td>-0.006289</td>\n    </tr>\n    <tr>\n      <th>zzzwh2ktIWjsR7xp</th>\n      <td>-0.007416</td>\n      <td>-0.006601</td>\n      <td>-0.005646</td>\n      <td>-0.004606</td>\n      <td>-0.004123</td>\n      <td>-0.003386</td>\n      <td>-0.002925</td>\n      <td>-0.001288</td>\n      <td>0.000143</td>\n      <td>0.001571</td>\n      <td>...</td>\n      <td>-0.012354</td>\n      <td>-0.010790</td>\n      <td>-0.009263</td>\n      <td>-0.007942</td>\n      <td>-0.007384</td>\n      <td>-0.006649</td>\n      <td>-0.006250</td>\n      <td>-0.005226</td>\n      <td>-0.004812</td>\n      <td>-0.004049</td>\n    </tr>\n  </tbody>\n</table>\n<p>68641 rows × 980 columns</p>\n</div>"
     },
     "execution_count": 8,
     "metadata": {},
     "output_type": "execute_result"
    }
   ],
   "source": [
    "blf_spectral"
   ],
   "metadata": {
    "collapsed": false,
    "ExecuteTime": {
     "end_time": "2023-05-26T12:12:03.422623759Z",
     "start_time": "2023-05-26T12:12:03.261839388Z"
    }
   }
  },
  {
   "cell_type": "code",
   "execution_count": 11,
   "metadata": {
    "ExecuteTime": {
     "end_time": "2023-05-26T12:13:07.541908012Z",
     "start_time": "2023-05-26T12:13:07.518784528Z"
    }
   },
   "outputs": [],
   "source": [
    "datasets = {\n",
    "#    \"tfidf\" : tf_idf,\n",
    "#    \"word2vec\" : word2vec,\n",
    "#    \"bert\" : bert,\n",
    "#    \"mfcc_bow\" : mfcc_bow,\n",
    "#    \"mfcc_stats\" : mfcc_stats,\n",
    "#    \"essentia\" : essentia,\n",
    "#    \"blf_delta_spectral\" : blf_deltaspectral,\n",
    "#    \"blf_correlation\" : blf_correlation,\n",
    "#    \"blf_logfluc\" : blf_logfluc,\n",
    "    \"blf_spectral\" : blf_spectral,\n",
    "#    \"blf_spectral_contrast\" : blf_spectralcontrast,\n",
    "#    \"blf_vardelta_spectral\" : blf_vardeltaspectral,\n",
    "#    \"incp\" : incp,\n",
    "#    \"vgg19\" : vgg19,\n",
    "#    \"resnet\" : resnet,\n",
    "}"
   ]
  },
  {
   "cell_type": "markdown",
   "metadata": {},
   "source": [
    "#### Change the original ids to the new ids of the loaded datasets"
   ]
  },
  {
   "cell_type": "code",
   "execution_count": 13,
   "metadata": {
    "ExecuteTime": {
     "end_time": "2023-05-26T12:13:20.631526996Z",
     "start_time": "2023-05-26T12:13:20.621043641Z"
    }
   },
   "outputs": [],
   "source": [
    "for df in datasets.keys():\n",
    "    change_id_to_keys(datasets[df], id_to_key)"
   ]
  },
  {
   "cell_type": "code",
   "execution_count": 14,
   "metadata": {
    "scrolled": true,
    "ExecuteTime": {
     "end_time": "2023-05-26T12:13:26.411683989Z",
     "start_time": "2023-05-26T12:13:26.368736728Z"
    }
   },
   "outputs": [
    {
     "name": "stdout",
     "output_type": "stream",
     "text": [
      "Feature blf_spectral (68641, 980)\n"
     ]
    }
   ],
   "source": [
    "for df in datasets.keys():\n",
    "    print(f\"Feature {df}\" , datasets[df].shape)"
   ]
  },
  {
   "cell_type": "markdown",
   "metadata": {},
   "source": [
    "# Function to compute distance and only retrieve the top ids"
   ]
  },
  {
   "cell_type": "code",
   "execution_count": null,
   "outputs": [],
   "source": [
    "def recommend_top_average(data: pd.DataFrame, listened_items, top: int=100):\n",
    "    \"\"\"\n",
    "    Given a list of ids (that have been listened to by a user)\n",
    "    it aggregates the features of the corresponding items\n",
    "    and then retrieves the most similar tracks to the aggregated version.\n",
    "    :param data:\n",
    "    :param listened_items:\n",
    "    :param top:\n",
    "    :return: recommended_tracks\n",
    "    \"\"\"\n",
    "\n",
    "    # Calculate the average over listened items\n",
    "    mean_feat = data.iloc[listened_items].mean()\n",
    "    # Exclude the listened items from recommendations\n",
    "    target_feat = data.loc[~data.index.isin(listened_items)]\n",
    "    recommended_tracks = target_feat.dot(mean_feat).sort_values(ascending=False)[:top].index\n",
    "\n",
    "    return recommended_tracks"
   ],
   "metadata": {
    "collapsed": false
   }
  },
  {
   "cell_type": "code",
   "execution_count": 18,
   "outputs": [],
   "source": [
    "# Listening events of the music4all CIKM submission\n",
    "user_core = 10\n",
    "dataset_path = \"/home/marta/jku/cikm/data/matching/binarized_listening_history_filtered.tsv\"\n",
    "cikm_dataset = dt.fread(dataset_path).to_pandas().drop(columns='timestamp').groupby('user')['item'].apply(list).reset_index(name='items')\n",
    "user_core_mask = cikm_dataset['items'].apply(lambda x: len(x) >= user_core)\n",
    "cikm_dataset = cikm_dataset[user_core_mask]"
   ],
   "metadata": {
    "collapsed": false,
    "ExecuteTime": {
     "end_time": "2023-05-26T13:20:45.471493877Z",
     "start_time": "2023-05-26T13:20:44.936039209Z"
    }
   }
  },
  {
   "cell_type": "code",
   "execution_count": 29,
   "outputs": [],
   "source": [
    "import random"
   ],
   "metadata": {
    "collapsed": false,
    "ExecuteTime": {
     "end_time": "2023-05-26T13:29:59.644122953Z",
     "start_time": "2023-05-26T13:29:59.627912062Z"
    }
   }
  },
  {
   "cell_type": "code",
   "execution_count": 68,
   "outputs": [],
   "source": [
    "def split_list_train_val_set(\n",
    "        list,\n",
    "        training_ratio=0.6,\n",
    "        validation_ratio=0.2,\n",
    "        test_ratio=0.2,\n",
    "        randomize=True,\n",
    "):\n",
    "    if training_ratio + validation_ratio + test_ratio != 1.:\n",
    "        raise ValueError(\"Splits do not add up to 1.\")\n",
    "    if randomize:\n",
    "        #use sample instead of random since the latter shuffles in place\n",
    "        list = random.sample(list, len(list))\n",
    "    total_interactions = len(list)\n",
    "    training_set = list[:int(total_interactions * training_ratio)] #get first 80% of file list\n",
    "    validation_set = list[int(total_interactions * training_ratio):int(total_interactions * (training_ratio+validation_ratio))]\n",
    "    test_set = list[int(total_interactions * (training_ratio+validation_ratio)):]\n",
    "\n",
    "    return training_set, validation_set, test_set"
   ],
   "metadata": {
    "collapsed": false,
    "ExecuteTime": {
     "end_time": "2023-05-26T13:46:26.055646811Z",
     "start_time": "2023-05-26T13:46:26.007279976Z"
    }
   }
  },
  {
   "cell_type": "code",
   "execution_count": 69,
   "outputs": [],
   "source": [
    "cikm_dataset[['train_items', 'val_items', 'test_items']] = pd.DataFrame(cikm_dataset['items'].apply(split_list_train_val_set).tolist(), index=cikm_dataset.index)"
   ],
   "metadata": {
    "collapsed": false,
    "ExecuteTime": {
     "end_time": "2023-05-26T13:46:27.217225376Z",
     "start_time": "2023-05-26T13:46:26.982111974Z"
    }
   }
  },
  {
   "cell_type": "code",
   "execution_count": 70,
   "outputs": [
    {
     "data": {
      "text/plain": "                user                                              items  \\\n0      user_007XIjOr  [bq9a4laPkymhvaj2, AroELicy4S1Y5KPG, yspG3O3y8...   \n1      user_00Y0Uqn9  [5RxsEogLBdXW2U8v, Ru6svPlOp39EjVpc, kPQllTjnY...   \n2      user_00c8xHqc  [PFpMOUlXXlhUJR1q, TcUb75QrVdYnF7Jo, 7JIMHRbZs...   \n3      user_00qujrxB  [4puXd1Aq8WnEmVoJ, QDtAFWCvEaRwFPnC, 3dvaSAl2q...   \n4      user_00s56GJz  [Yk1XnsJTggylaiGc, 0h8G1bhVFVP6G9Km, i6U6Xchrb...   \n...              ...                                                ...   \n14113  user_zyDTgcHV  [9CFIZd07WUyHsUg9, eKARCeBEL4sB2pVE, wr93zy6wr...   \n14114  user_zzCNtMQy  [1eApBsTMCYUAWWKW, RNYoTRkFQ0q5XERZ, h9hqQMsQG...   \n14115  user_zzIyYHRx  [YhuXZBiCxjMR4FfQ, cU7wXxFv0vUJTZwr, 8LgQbYbM6...   \n14116  user_zzU2bfEp  [sDVvL1B7dzBIsgx5, oaSlacL5oON2ueP8, ptVOUmAT3...   \n14117  user_zzWscYTy  [YJYGAmh1uGkMm95T, hX2v4io4AAiWAC24, 5ZHgff3sj...   \n\n                                             train_items  \\\n0      [O5MGXkKLuOIMutHR, 3dd1h66omGYxy8qF, Y60ateqiw...   \n1      [KnMItrBYhHFixzJT, xiMHA8Ftp3w9UNiJ, n2dmN7MAS...   \n2      [cJDYd61ccx6tgedT, lJKIbZNzpS6IsNgh, D89mTNcG3...   \n3      [SjTO6cS6esdwkbiX, AjunnHQraQkLELRy, uYXH99JD1...   \n4      [YBh5RPi2buFZB7jN, q8CqJBLxjNUmTes0, ADfeIrEbK...   \n...                                                  ...   \n14113  [5f2yltnrubxe9Zho, hq2tGJTcQD6Lc6Iw, YfUXf3tHV...   \n14114  [oremcvGwQa2mOajf, WBe1tnG0XQg8KRiF, B2D76p4Yq...   \n14115  [Gl2qret9vZ4jPvHn, 94ZnZpGPvcS2E81V, 7PX1VlK5H...   \n14116  [sDVvL1B7dzBIsgx5, QkY5ITJB8L2ckucb, ILN3etmKi...   \n14117  [3Y5qu2SYcGIi0hk8, CTB8ewr815LhFQHe, EmPJO7fTw...   \n\n                                               val_items  \\\n0      [GsahgqMVYOoiWdue, NlE6greyN9xK2Goq, zXMHUt57M...   \n1      [KKmk2QJLVj2Aqsjg, H9CaQi7owLvAOv44, 1482T1UBL...   \n2      [Y51BtpDFWkIMQc7u, 5FYjYOYtboGmj2oN, Gh4yUdMJr...   \n3      [FTH8Y73nBBTabDZj, Pd9oT87atjiC4y3v, hnCdYJAPS...   \n4      [MRym8X2zZomSnlp2, TkzE86IP8iegSijb, tecomBGxt...   \n...                                                  ...   \n14113  [z1yQsZtnoyBC9ir1, CuYQ51MAu2EuFD1A, ev1Iei16k...   \n14114  [a1vzBEpDu0GYeByB, oed874gCtftyvvV9, 1482T1UBL...   \n14115  [hlN9CU4ghZnLAyoP, vkOg9ZAiUgUT87k6, 5eJWFrV0W...   \n14116  [aCQrcwVVAYXAmfot, EUzw83McYkRkvDgX, mxkFW7YWd...   \n14117  [BzafUVzJXOb49I0g, RPmWvNfWjSNfwcay, nYZ4U0yhe...   \n\n                                              test_items  \n0      [2Q44O3s5OQrptQ3Z, 0jx1O7OwEExV2q1y, oXHT1WCf6...  \n1      [1meisSGwt4KAjrVP, Ru6svPlOp39EjVpc, 6PTU0EEwf...  \n2      [IiKMWlJ4N1MvBpHc, PFpMOUlXXlhUJR1q, d8QDyWffh...  \n3      [EOHtgzZyoNfsnHFO, CTAcuZ3vyNm6NujM, 4Y9CqyBbH...  \n4      [yxrSZFCA5PzBuNVf, vQrbIZ3dbyT7NAk3, PwCI7LTOY...  \n...                                                  ...  \n14113  [QIVFvCqHeMp4Nmv4, PTsdL8QQcBFX2R2r, I9VyTj8JB...  \n14114  [EShXQGuruxMA1cRN, ni5UiwyDDoIuwR0Q, FGJmF8RWJ...  \n14115  [3LzJAbWOginL6gLy, 5QCSQhMhV2TnRJe0, 6ddGlpAbi...  \n14116  [Kbf3cPfjxGjRiVTv, V87KWrTTLaRc67O2, JP4xZNvIr...  \n14117  [Sx24emXFUeV0fxVx, c431Hoz8wpaMKekY, IXoFHibXj...  \n\n[13913 rows x 5 columns]",
      "text/html": "<div>\n<style scoped>\n    .dataframe tbody tr th:only-of-type {\n        vertical-align: middle;\n    }\n\n    .dataframe tbody tr th {\n        vertical-align: top;\n    }\n\n    .dataframe thead th {\n        text-align: right;\n    }\n</style>\n<table border=\"1\" class=\"dataframe\">\n  <thead>\n    <tr style=\"text-align: right;\">\n      <th></th>\n      <th>user</th>\n      <th>items</th>\n      <th>train_items</th>\n      <th>val_items</th>\n      <th>test_items</th>\n    </tr>\n  </thead>\n  <tbody>\n    <tr>\n      <th>0</th>\n      <td>user_007XIjOr</td>\n      <td>[bq9a4laPkymhvaj2, AroELicy4S1Y5KPG, yspG3O3y8...</td>\n      <td>[O5MGXkKLuOIMutHR, 3dd1h66omGYxy8qF, Y60ateqiw...</td>\n      <td>[GsahgqMVYOoiWdue, NlE6greyN9xK2Goq, zXMHUt57M...</td>\n      <td>[2Q44O3s5OQrptQ3Z, 0jx1O7OwEExV2q1y, oXHT1WCf6...</td>\n    </tr>\n    <tr>\n      <th>1</th>\n      <td>user_00Y0Uqn9</td>\n      <td>[5RxsEogLBdXW2U8v, Ru6svPlOp39EjVpc, kPQllTjnY...</td>\n      <td>[KnMItrBYhHFixzJT, xiMHA8Ftp3w9UNiJ, n2dmN7MAS...</td>\n      <td>[KKmk2QJLVj2Aqsjg, H9CaQi7owLvAOv44, 1482T1UBL...</td>\n      <td>[1meisSGwt4KAjrVP, Ru6svPlOp39EjVpc, 6PTU0EEwf...</td>\n    </tr>\n    <tr>\n      <th>2</th>\n      <td>user_00c8xHqc</td>\n      <td>[PFpMOUlXXlhUJR1q, TcUb75QrVdYnF7Jo, 7JIMHRbZs...</td>\n      <td>[cJDYd61ccx6tgedT, lJKIbZNzpS6IsNgh, D89mTNcG3...</td>\n      <td>[Y51BtpDFWkIMQc7u, 5FYjYOYtboGmj2oN, Gh4yUdMJr...</td>\n      <td>[IiKMWlJ4N1MvBpHc, PFpMOUlXXlhUJR1q, d8QDyWffh...</td>\n    </tr>\n    <tr>\n      <th>3</th>\n      <td>user_00qujrxB</td>\n      <td>[4puXd1Aq8WnEmVoJ, QDtAFWCvEaRwFPnC, 3dvaSAl2q...</td>\n      <td>[SjTO6cS6esdwkbiX, AjunnHQraQkLELRy, uYXH99JD1...</td>\n      <td>[FTH8Y73nBBTabDZj, Pd9oT87atjiC4y3v, hnCdYJAPS...</td>\n      <td>[EOHtgzZyoNfsnHFO, CTAcuZ3vyNm6NujM, 4Y9CqyBbH...</td>\n    </tr>\n    <tr>\n      <th>4</th>\n      <td>user_00s56GJz</td>\n      <td>[Yk1XnsJTggylaiGc, 0h8G1bhVFVP6G9Km, i6U6Xchrb...</td>\n      <td>[YBh5RPi2buFZB7jN, q8CqJBLxjNUmTes0, ADfeIrEbK...</td>\n      <td>[MRym8X2zZomSnlp2, TkzE86IP8iegSijb, tecomBGxt...</td>\n      <td>[yxrSZFCA5PzBuNVf, vQrbIZ3dbyT7NAk3, PwCI7LTOY...</td>\n    </tr>\n    <tr>\n      <th>...</th>\n      <td>...</td>\n      <td>...</td>\n      <td>...</td>\n      <td>...</td>\n      <td>...</td>\n    </tr>\n    <tr>\n      <th>14113</th>\n      <td>user_zyDTgcHV</td>\n      <td>[9CFIZd07WUyHsUg9, eKARCeBEL4sB2pVE, wr93zy6wr...</td>\n      <td>[5f2yltnrubxe9Zho, hq2tGJTcQD6Lc6Iw, YfUXf3tHV...</td>\n      <td>[z1yQsZtnoyBC9ir1, CuYQ51MAu2EuFD1A, ev1Iei16k...</td>\n      <td>[QIVFvCqHeMp4Nmv4, PTsdL8QQcBFX2R2r, I9VyTj8JB...</td>\n    </tr>\n    <tr>\n      <th>14114</th>\n      <td>user_zzCNtMQy</td>\n      <td>[1eApBsTMCYUAWWKW, RNYoTRkFQ0q5XERZ, h9hqQMsQG...</td>\n      <td>[oremcvGwQa2mOajf, WBe1tnG0XQg8KRiF, B2D76p4Yq...</td>\n      <td>[a1vzBEpDu0GYeByB, oed874gCtftyvvV9, 1482T1UBL...</td>\n      <td>[EShXQGuruxMA1cRN, ni5UiwyDDoIuwR0Q, FGJmF8RWJ...</td>\n    </tr>\n    <tr>\n      <th>14115</th>\n      <td>user_zzIyYHRx</td>\n      <td>[YhuXZBiCxjMR4FfQ, cU7wXxFv0vUJTZwr, 8LgQbYbM6...</td>\n      <td>[Gl2qret9vZ4jPvHn, 94ZnZpGPvcS2E81V, 7PX1VlK5H...</td>\n      <td>[hlN9CU4ghZnLAyoP, vkOg9ZAiUgUT87k6, 5eJWFrV0W...</td>\n      <td>[3LzJAbWOginL6gLy, 5QCSQhMhV2TnRJe0, 6ddGlpAbi...</td>\n    </tr>\n    <tr>\n      <th>14116</th>\n      <td>user_zzU2bfEp</td>\n      <td>[sDVvL1B7dzBIsgx5, oaSlacL5oON2ueP8, ptVOUmAT3...</td>\n      <td>[sDVvL1B7dzBIsgx5, QkY5ITJB8L2ckucb, ILN3etmKi...</td>\n      <td>[aCQrcwVVAYXAmfot, EUzw83McYkRkvDgX, mxkFW7YWd...</td>\n      <td>[Kbf3cPfjxGjRiVTv, V87KWrTTLaRc67O2, JP4xZNvIr...</td>\n    </tr>\n    <tr>\n      <th>14117</th>\n      <td>user_zzWscYTy</td>\n      <td>[YJYGAmh1uGkMm95T, hX2v4io4AAiWAC24, 5ZHgff3sj...</td>\n      <td>[3Y5qu2SYcGIi0hk8, CTB8ewr815LhFQHe, EmPJO7fTw...</td>\n      <td>[BzafUVzJXOb49I0g, RPmWvNfWjSNfwcay, nYZ4U0yhe...</td>\n      <td>[Sx24emXFUeV0fxVx, c431Hoz8wpaMKekY, IXoFHibXj...</td>\n    </tr>\n  </tbody>\n</table>\n<p>13913 rows × 5 columns</p>\n</div>"
     },
     "execution_count": 70,
     "metadata": {},
     "output_type": "execute_result"
    }
   ],
   "source": [
    "cikm_dataset"
   ],
   "metadata": {
    "collapsed": false,
    "ExecuteTime": {
     "end_time": "2023-05-26T13:46:28.213435713Z",
     "start_time": "2023-05-26T13:46:28.206644341Z"
    }
   }
  },
  {
   "cell_type": "code",
   "execution_count": null,
   "outputs": [],
   "source": [],
   "metadata": {
    "collapsed": false
   }
  }
 ],
 "metadata": {
  "kernelspec": {
   "display_name": "Python3 (new)",
   "language": "python",
   "name": "python3"
  },
  "language_info": {
   "codemirror_mode": {
    "name": "ipython",
    "version": 3
   },
   "file_extension": ".py",
   "mimetype": "text/x-python",
   "name": "python",
   "nbconvert_exporter": "python",
   "pygments_lexer": "ipython3",
   "version": "3.8.13"
  },
  "widgets": {
   "application/vnd.jupyter.widget-state+json": {
    "state": {},
    "version_major": 2,
    "version_minor": 0
   }
  }
 },
 "nbformat": 4,
 "nbformat_minor": 4
}
