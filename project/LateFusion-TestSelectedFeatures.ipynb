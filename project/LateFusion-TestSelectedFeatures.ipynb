{
 "cells": [
  {
   "cell_type": "code",
   "execution_count": 1,
   "id": "6538db3a-12f5-4a4f-b5cb-e43d824d493e",
   "metadata": {},
   "outputs": [
    {
     "data": {
      "text/html": [
       "<style type='text/css'>\n",
       ".datatable table.frame { margin-bottom: 0; }\n",
       ".datatable table.frame thead { border-bottom: none; }\n",
       ".datatable table.frame tr.coltypes td {  color: #FFFFFF;  line-height: 6px;  padding: 0 0.5em;}\n",
       ".datatable .bool    { background: #DDDD99; }\n",
       ".datatable .object  { background: #565656; }\n",
       ".datatable .int     { background: #5D9E5D; }\n",
       ".datatable .float   { background: #4040CC; }\n",
       ".datatable .str     { background: #CC4040; }\n",
       ".datatable .time    { background: #40CC40; }\n",
       ".datatable .row_index {  background: var(--jp-border-color3);  border-right: 1px solid var(--jp-border-color0);  color: var(--jp-ui-font-color3);  font-size: 9px;}\n",
       ".datatable .frame tbody td { text-align: left; }\n",
       ".datatable .frame tr.coltypes .row_index {  background: var(--jp-border-color0);}\n",
       ".datatable th:nth-child(2) { padding-left: 12px; }\n",
       ".datatable .hellipsis {  color: var(--jp-cell-editor-border-color);}\n",
       ".datatable .vellipsis {  background: var(--jp-layout-color0);  color: var(--jp-cell-editor-border-color);}\n",
       ".datatable .na {  color: var(--jp-cell-editor-border-color);  font-size: 80%;}\n",
       ".datatable .sp {  opacity: 0.25;}\n",
       ".datatable .footer { font-size: 9px; }\n",
       ".datatable .frame_dimensions {  background: var(--jp-border-color3);  border-top: 1px solid var(--jp-border-color0);  color: var(--jp-ui-font-color3);  display: inline-block;  opacity: 0.6;  padding: 1px 10px 1px 5px;}\n",
       "</style>\n"
      ],
      "text/plain": [
       "<IPython.core.display.HTML object>"
      ]
     },
     "metadata": {},
     "output_type": "display_data"
    }
   ],
   "source": [
    "import datatable as dt\n",
    "\n",
    "# Variables that contains the file location\n",
    "from files import *\n",
    "from functions import *\n",
    "import pandas as pd"
   ]
  },
  {
   "cell_type": "code",
   "execution_count": 2,
   "id": "aaea0caa-e0a9-4176-9eaf-a37c81774924",
   "metadata": {},
   "outputs": [
    {
     "data": {
      "text/plain": [
       "<module 'functions' from '/Users/eduardohdz/Documents/JKU/Semester1/MMSR_REPO/project/functions.py'>"
      ]
     },
     "execution_count": 2,
     "metadata": {},
     "output_type": "execute_result"
    }
   ],
   "source": [
    "# if we modify the file we need to reload it with this\n",
    "import importlib\n",
    "import functions  #import the module here, so that it can be reloaded.\n",
    "\n",
    "importlib.reload(functions)"
   ]
  },
  {
   "cell_type": "code",
   "execution_count": 3,
   "id": "9b19ca16",
   "metadata": {},
   "outputs": [],
   "source": [
    "DATA_TYPE = np.float32"
   ]
  },
  {
   "cell_type": "markdown",
   "id": "036e350e-d054-4adb-a464-e9e24ff41273",
   "metadata": {},
   "source": [
    "# Data\n",
    "Load the Data"
   ]
  },
  {
   "cell_type": "code",
   "execution_count": 4,
   "id": "1af3f974",
   "metadata": {},
   "outputs": [
    {
     "data": {
      "text/html": [
       "<div>\n",
       "<style scoped>\n",
       "    .dataframe tbody tr th:only-of-type {\n",
       "        vertical-align: middle;\n",
       "    }\n",
       "\n",
       "    .dataframe tbody tr th {\n",
       "        vertical-align: top;\n",
       "    }\n",
       "\n",
       "    .dataframe thead th {\n",
       "        text-align: right;\n",
       "    }\n",
       "</style>\n",
       "<table border=\"1\" class=\"dataframe\">\n",
       "  <thead>\n",
       "    <tr style=\"text-align: right;\">\n",
       "      <th></th>\n",
       "      <th>MAP_10</th>\n",
       "      <th>MAP_100</th>\n",
       "      <th>MRR_10</th>\n",
       "      <th>MRR_100</th>\n",
       "      <th>Mean NDCG_10</th>\n",
       "      <th>Mean NDCG_100</th>\n",
       "      <th>%DeltaMean</th>\n",
       "      <th>S10</th>\n",
       "      <th>S100</th>\n",
       "    </tr>\n",
       "  </thead>\n",
       "  <tbody>\n",
       "    <tr>\n",
       "      <th>baseline</th>\n",
       "      <td>0.538468</td>\n",
       "      <td>0.468318</td>\n",
       "      <td>0.597873</td>\n",
       "      <td>0.602863</td>\n",
       "      <td>0.445806</td>\n",
       "      <td>0.445989</td>\n",
       "      <td>0.021471</td>\n",
       "      <td>0.323246</td>\n",
       "      <td>0.094932</td>\n",
       "    </tr>\n",
       "    <tr>\n",
       "      <th>tfidf</th>\n",
       "      <td>0.613005</td>\n",
       "      <td>0.533717</td>\n",
       "      <td>0.675660</td>\n",
       "      <td>0.679565</td>\n",
       "      <td>0.522946</td>\n",
       "      <td>0.509408</td>\n",
       "      <td>0.062432</td>\n",
       "      <td>4.687369</td>\n",
       "      <td>4.214574</td>\n",
       "    </tr>\n",
       "    <tr>\n",
       "      <th>word2vec</th>\n",
       "      <td>0.620418</td>\n",
       "      <td>0.531777</td>\n",
       "      <td>0.688515</td>\n",
       "      <td>0.691910</td>\n",
       "      <td>0.526673</td>\n",
       "      <td>0.505861</td>\n",
       "      <td>0.102609</td>\n",
       "      <td>16.733727</td>\n",
       "      <td>10.633337</td>\n",
       "    </tr>\n",
       "    <tr>\n",
       "      <th>bert</th>\n",
       "      <td>0.662683</td>\n",
       "      <td>0.582197</td>\n",
       "      <td>0.724922</td>\n",
       "      <td>0.727865</td>\n",
       "      <td>0.580295</td>\n",
       "      <td>0.558143</td>\n",
       "      <td>0.057727</td>\n",
       "      <td>12.455223</td>\n",
       "      <td>6.382306</td>\n",
       "    </tr>\n",
       "    <tr>\n",
       "      <th>mfcc_bow</th>\n",
       "      <td>0.686826</td>\n",
       "      <td>0.611884</td>\n",
       "      <td>0.745529</td>\n",
       "      <td>0.748227</td>\n",
       "      <td>0.609634</td>\n",
       "      <td>0.589270</td>\n",
       "      <td>0.057407</td>\n",
       "      <td>3.542412</td>\n",
       "      <td>2.684883</td>\n",
       "    </tr>\n",
       "    <tr>\n",
       "      <th>mfcc_stats</th>\n",
       "      <td>0.664758</td>\n",
       "      <td>0.590062</td>\n",
       "      <td>0.723587</td>\n",
       "      <td>0.726534</td>\n",
       "      <td>0.585111</td>\n",
       "      <td>0.566645</td>\n",
       "      <td>0.044250</td>\n",
       "      <td>4.471769</td>\n",
       "      <td>3.898211</td>\n",
       "    </tr>\n",
       "    <tr>\n",
       "      <th>essentia</th>\n",
       "      <td>0.589588</td>\n",
       "      <td>0.518582</td>\n",
       "      <td>0.651804</td>\n",
       "      <td>0.655771</td>\n",
       "      <td>0.500432</td>\n",
       "      <td>0.496907</td>\n",
       "      <td>0.019444</td>\n",
       "      <td>-0.049851</td>\n",
       "      <td>-3.908131</td>\n",
       "    </tr>\n",
       "    <tr>\n",
       "      <th>blf_delta_spectral</th>\n",
       "      <td>0.660296</td>\n",
       "      <td>0.580015</td>\n",
       "      <td>0.724785</td>\n",
       "      <td>0.727699</td>\n",
       "      <td>0.576541</td>\n",
       "      <td>0.556345</td>\n",
       "      <td>0.041429</td>\n",
       "      <td>5.728301</td>\n",
       "      <td>4.060359</td>\n",
       "    </tr>\n",
       "    <tr>\n",
       "      <th>blf_correlation</th>\n",
       "      <td>0.659284</td>\n",
       "      <td>0.576151</td>\n",
       "      <td>0.721592</td>\n",
       "      <td>0.724590</td>\n",
       "      <td>0.575718</td>\n",
       "      <td>0.550553</td>\n",
       "      <td>0.097241</td>\n",
       "      <td>6.644647</td>\n",
       "      <td>5.174368</td>\n",
       "    </tr>\n",
       "    <tr>\n",
       "      <th>blf_logfluc</th>\n",
       "      <td>0.684356</td>\n",
       "      <td>0.606021</td>\n",
       "      <td>0.743860</td>\n",
       "      <td>0.746583</td>\n",
       "      <td>0.606172</td>\n",
       "      <td>0.580933</td>\n",
       "      <td>0.046486</td>\n",
       "      <td>3.961619</td>\n",
       "      <td>2.879824</td>\n",
       "    </tr>\n",
       "    <tr>\n",
       "      <th>blf_spectral</th>\n",
       "      <td>0.691342</td>\n",
       "      <td>0.613924</td>\n",
       "      <td>0.752488</td>\n",
       "      <td>0.755120</td>\n",
       "      <td>0.613663</td>\n",
       "      <td>0.590432</td>\n",
       "      <td>0.077500</td>\n",
       "      <td>3.384937</td>\n",
       "      <td>2.807292</td>\n",
       "    </tr>\n",
       "    <tr>\n",
       "      <th>blf_spectral_contrast</th>\n",
       "      <td>0.648534</td>\n",
       "      <td>0.578089</td>\n",
       "      <td>0.706780</td>\n",
       "      <td>0.709923</td>\n",
       "      <td>0.567747</td>\n",
       "      <td>0.555877</td>\n",
       "      <td>0.040000</td>\n",
       "      <td>2.541153</td>\n",
       "      <td>2.160803</td>\n",
       "    </tr>\n",
       "    <tr>\n",
       "      <th>blf_vardelta_spectral</th>\n",
       "      <td>0.668109</td>\n",
       "      <td>0.590296</td>\n",
       "      <td>0.727212</td>\n",
       "      <td>0.730294</td>\n",
       "      <td>0.588490</td>\n",
       "      <td>0.565889</td>\n",
       "      <td>0.066571</td>\n",
       "      <td>4.406864</td>\n",
       "      <td>3.595639</td>\n",
       "    </tr>\n",
       "    <tr>\n",
       "      <th>incp</th>\n",
       "      <td>0.703419</td>\n",
       "      <td>0.584181</td>\n",
       "      <td>0.766965</td>\n",
       "      <td>0.769800</td>\n",
       "      <td>0.605207</td>\n",
       "      <td>0.546736</td>\n",
       "      <td>0.050000</td>\n",
       "      <td>10.293367</td>\n",
       "      <td>7.804725</td>\n",
       "    </tr>\n",
       "    <tr>\n",
       "      <th>vgg19</th>\n",
       "      <td>0.696425</td>\n",
       "      <td>0.575740</td>\n",
       "      <td>0.760690</td>\n",
       "      <td>0.763716</td>\n",
       "      <td>0.595535</td>\n",
       "      <td>0.537718</td>\n",
       "      <td>0.051250</td>\n",
       "      <td>4.907005</td>\n",
       "      <td>4.086324</td>\n",
       "    </tr>\n",
       "    <tr>\n",
       "      <th>resnet</th>\n",
       "      <td>0.709891</td>\n",
       "      <td>0.588221</td>\n",
       "      <td>0.773062</td>\n",
       "      <td>0.775870</td>\n",
       "      <td>0.611992</td>\n",
       "      <td>0.550408</td>\n",
       "      <td>0.051250</td>\n",
       "      <td>5.942344</td>\n",
       "      <td>4.368070</td>\n",
       "    </tr>\n",
       "  </tbody>\n",
       "</table>\n",
       "</div>"
      ],
      "text/plain": [
       "                         MAP_10   MAP_100    MRR_10   MRR_100  Mean NDCG_10  \\\n",
       "baseline               0.538468  0.468318  0.597873  0.602863      0.445806   \n",
       "tfidf                  0.613005  0.533717  0.675660  0.679565      0.522946   \n",
       "word2vec               0.620418  0.531777  0.688515  0.691910      0.526673   \n",
       "bert                   0.662683  0.582197  0.724922  0.727865      0.580295   \n",
       "mfcc_bow               0.686826  0.611884  0.745529  0.748227      0.609634   \n",
       "mfcc_stats             0.664758  0.590062  0.723587  0.726534      0.585111   \n",
       "essentia               0.589588  0.518582  0.651804  0.655771      0.500432   \n",
       "blf_delta_spectral     0.660296  0.580015  0.724785  0.727699      0.576541   \n",
       "blf_correlation        0.659284  0.576151  0.721592  0.724590      0.575718   \n",
       "blf_logfluc            0.684356  0.606021  0.743860  0.746583      0.606172   \n",
       "blf_spectral           0.691342  0.613924  0.752488  0.755120      0.613663   \n",
       "blf_spectral_contrast  0.648534  0.578089  0.706780  0.709923      0.567747   \n",
       "blf_vardelta_spectral  0.668109  0.590296  0.727212  0.730294      0.588490   \n",
       "incp                   0.703419  0.584181  0.766965  0.769800      0.605207   \n",
       "vgg19                  0.696425  0.575740  0.760690  0.763716      0.595535   \n",
       "resnet                 0.709891  0.588221  0.773062  0.775870      0.611992   \n",
       "\n",
       "                       Mean NDCG_100  %DeltaMean        S10       S100  \n",
       "baseline                    0.445989    0.021471   0.323246   0.094932  \n",
       "tfidf                       0.509408    0.062432   4.687369   4.214574  \n",
       "word2vec                    0.505861    0.102609  16.733727  10.633337  \n",
       "bert                        0.558143    0.057727  12.455223   6.382306  \n",
       "mfcc_bow                    0.589270    0.057407   3.542412   2.684883  \n",
       "mfcc_stats                  0.566645    0.044250   4.471769   3.898211  \n",
       "essentia                    0.496907    0.019444  -0.049851  -3.908131  \n",
       "blf_delta_spectral          0.556345    0.041429   5.728301   4.060359  \n",
       "blf_correlation             0.550553    0.097241   6.644647   5.174368  \n",
       "blf_logfluc                 0.580933    0.046486   3.961619   2.879824  \n",
       "blf_spectral                0.590432    0.077500   3.384937   2.807292  \n",
       "blf_spectral_contrast       0.555877    0.040000   2.541153   2.160803  \n",
       "blf_vardelta_spectral       0.565889    0.066571   4.406864   3.595639  \n",
       "incp                        0.546736    0.050000  10.293367   7.804725  \n",
       "vgg19                       0.537718    0.051250   4.907005   4.086324  \n",
       "resnet                      0.550408    0.051250   5.942344   4.368070  "
      ]
     },
     "execution_count": 4,
     "metadata": {},
     "output_type": "execute_result"
    }
   ],
   "source": [
    "relevant_results_by_id = pd.read_csv('./data/relevant_results_by_newid.csv').set_index('index').astype(np.int32)\n",
    "relation_ids = pd.read_csv(\"./data/relation_original_new_ids.csv\").set_index('original').astype(np.int32)\n",
    "id_to_key = dict(zip(relation_ids.index.values, relation_ids['newId'].values))\n",
    "relevant_results_by_id.index = relation_ids[\"newId\"].sort_values().index.values\n",
    "\n",
    "metrics_cosine_individual = get_metrics_file('./data/df_allmetrics_cosine_individual.csv',{}, _, _,_)\n",
    "metrics_cosine_individual"
   ]
  },
  {
   "cell_type": "code",
   "execution_count": 5,
   "id": "ba3bc5ed",
   "metadata": {},
   "outputs": [
    {
     "data": {
      "text/html": [
       "<div>\n",
       "<style scoped>\n",
       "    .dataframe tbody tr th:only-of-type {\n",
       "        vertical-align: middle;\n",
       "    }\n",
       "\n",
       "    .dataframe tbody tr th {\n",
       "        vertical-align: top;\n",
       "    }\n",
       "\n",
       "    .dataframe thead th {\n",
       "        text-align: right;\n",
       "    }\n",
       "</style>\n",
       "<table border=\"1\" class=\"dataframe\">\n",
       "  <thead>\n",
       "    <tr style=\"text-align: right;\">\n",
       "      <th></th>\n",
       "      <th>relevants</th>\n",
       "    </tr>\n",
       "  </thead>\n",
       "  <tbody>\n",
       "    <tr>\n",
       "      <th>0009fFIM1eYThaPg</th>\n",
       "      <td>28841</td>\n",
       "    </tr>\n",
       "    <tr>\n",
       "      <th>0010xmHR6UICBOYT</th>\n",
       "      <td>2787</td>\n",
       "    </tr>\n",
       "  </tbody>\n",
       "</table>\n",
       "</div>"
      ],
      "text/plain": [
       "                  relevants\n",
       "0009fFIM1eYThaPg      28841\n",
       "0010xmHR6UICBOYT       2787"
      ]
     },
     "execution_count": 5,
     "metadata": {},
     "output_type": "execute_result"
    }
   ],
   "source": [
    "relevant_results_by_id.head(2)"
   ]
  },
  {
   "cell_type": "code",
   "execution_count": 6,
   "id": "d13291a2",
   "metadata": {},
   "outputs": [],
   "source": [
    "genres = dt.fread(file_genres_2).to_pandas()\n",
    "genres.set_index('id', inplace=True)\n",
    "# First, we change the genre column to be a list\n",
    "genres['genre']= genres.genre.apply(lambda x: get_genres(x))"
   ]
  },
  {
   "cell_type": "code",
   "execution_count": 7,
   "id": "af7a2458",
   "metadata": {},
   "outputs": [],
   "source": [
    "# Our special child\n",
    "blf_logfluc = dt.fread(file_blf_logfluc)\n",
    "blf_logfluc[dt.float64] = dt.float32\n",
    "new_cols = ['id']\n",
    "new_cols.extend(list(blf_logfluc.names[2:]))\n",
    "new_cols = tuple(new_cols)\n",
    "del blf_logfluc[:, -1]\n",
    "blf_logfluc.names = new_cols\n",
    "blf_logfluc = blf_logfluc.to_pandas()\n",
    "blf_logfluc.set_index('id', inplace=True)"
   ]
  },
  {
   "cell_type": "code",
   "execution_count": 8,
   "id": "42ebb070",
   "metadata": {},
   "outputs": [],
   "source": [
    "files = [\n",
    "    # Lyrics\n",
    "    file_tfidf_2,\n",
    "#     file_word2vec_2,\n",
    "    file_bert_2,\n",
    "    # Audio\n",
    "    # file_essentia, # zeros\n",
    "#     file_blf_correlation,\n",
    "#     file_blf_deltaspectral,\n",
    "    file_blf_spectral,\n",
    "#     file_blf_spectralcontrast,\n",
    "#     file_blf_vardeltaspectral,\n",
    "#     file_blf_logfluc, # zeros\n",
    "    blf_logfluc,\n",
    "    file_mfcc_bow,\n",
    "#     file_mfcc_stats,\n",
    "    # Video\n",
    "    file_incp,\n",
    "    file_resnet,\n",
    "#     file_vgg19,\n",
    "]"
   ]
  },
  {
   "cell_type": "code",
   "execution_count": 9,
   "id": "925161d4",
   "metadata": {},
   "outputs": [],
   "source": [
    "functions = [get_cosine_similarity]"
   ]
  },
  {
   "cell_type": "code",
   "execution_count": 10,
   "id": "c2036b4b",
   "metadata": {},
   "outputs": [],
   "source": [
    "common_index = blf_logfluc.index.values"
   ]
  },
  {
   "cell_type": "code",
   "execution_count": 11,
   "id": "c2e166bb",
   "metadata": {},
   "outputs": [],
   "source": [
    "import csv\n",
    "\n",
    "def load_data(file):\n",
    "    if type(file) == str:\n",
    "        with open(file, \"r\") as f:\n",
    "            column_names = next(csv.reader(f, delimiter=\"\\t\"))\n",
    "        dtypes = {\n",
    "            x: np.float32\n",
    "            for x in column_names\n",
    "            if x != \"id\"\n",
    "        }\n",
    "        file = pd.read_csv(file, dtype=dtypes, index_col=0, delimiter=\"\\t\")\n",
    "    file = file.loc[common_index]\n",
    "    assert np.mean(file.index.values == blf_logfluc.index.values) == 1.0\n",
    "    return file"
   ]
  },
  {
   "cell_type": "code",
   "execution_count": 12,
   "id": "f3ea899e",
   "metadata": {},
   "outputs": [],
   "source": [
    "# Extract readable names\n",
    "names = []\n",
    "for file in files:\n",
    "    if type(file) == str:\n",
    "        names.append(file.replace(\"./../task2/id_\", \"\").replace(\".tsv\", \"\"))\n",
    "    else:\n",
    "        names.append(\"blf_logfluc\")"
   ]
  },
  {
   "cell_type": "markdown",
   "id": "cfc9d4d7-d725-485e-a4aa-05c7dcb56423",
   "metadata": {},
   "source": [
    "# Late Fusion"
   ]
  },
  {
   "cell_type": "code",
   "execution_count": 13,
   "id": "cc515775",
   "metadata": {},
   "outputs": [],
   "source": [
    "def compute_in_batches_topIds(results: np.array, idx_values: np.array, top: int = 100, batches: int = 1):\n",
    "    splits_b = np.array_split(results, batches, axis=0)\n",
    "    return np.concatenate([idx_values[np.argsort(b * -1, axis=1)][:, :top] for b in tqdm(splits_b)], axis=0)"
   ]
  },
  {
   "cell_type": "markdown",
   "id": "253de26a",
   "metadata": {},
   "source": [
    "# Find optimal feature similarity weights"
   ]
  },
  {
   "cell_type": "code",
   "execution_count": 14,
   "id": "3e9caae3",
   "metadata": {},
   "outputs": [
    {
     "data": {
      "text/plain": [
       "(4096,)"
      ]
     },
     "execution_count": 14,
     "metadata": {},
     "output_type": "execute_result"
    }
   ],
   "source": [
    "subset = np.random.choice(len(blf_logfluc), 1024 * 4, replace=False)\n",
    "subset.shape"
   ]
  },
  {
   "cell_type": "code",
   "execution_count": 15,
   "id": "636c4608",
   "metadata": {},
   "outputs": [
    {
     "name": "stderr",
     "output_type": "stream",
     "text": [
      "Processing: 100%|█████████████████████████████████| 7/7 [02:07<00:00, 18.17s/it]"
     ]
    },
    {
     "name": "stdout",
     "output_type": "stream",
     "text": [
      "7 similarity matrices\n"
     ]
    },
    {
     "name": "stderr",
     "output_type": "stream",
     "text": [
      "\n"
     ]
    }
   ],
   "source": [
    "subset_ids = genres.index.values[subset]\n",
    "\n",
    "similarities = []\n",
    "\n",
    "# for every data\n",
    "i = 0\n",
    "for d in tqdm(files, desc=\"Processing\"):\n",
    "    file = load_data(d).to_numpy()[subset, :].astype(np.float32)\n",
    "    for f in functions:\n",
    "        result = np.nan_to_num(f(file, file), copy=False)\n",
    "        similarities.append(result)\n",
    "    i += 1\n",
    "\n",
    "print(f\"{len(similarities)} similarity matrices\")"
   ]
  },
  {
   "cell_type": "code",
   "execution_count": 16,
   "id": "ecf4693d",
   "metadata": {},
   "outputs": [
    {
     "data": {
      "text/plain": [
       "(4096, 4096)"
      ]
     },
     "execution_count": 16,
     "metadata": {},
     "output_type": "execute_result"
    }
   ],
   "source": [
    "similarities[0].shape"
   ]
  },
  {
   "cell_type": "code",
   "execution_count": 17,
   "id": "be0da723",
   "metadata": {},
   "outputs": [],
   "source": [
    "def evaluate(similarities, weights):\n",
    "    if len(similarities) == 1:\n",
    "        accumulated_similarity = similarities[0]\n",
    "    else:\n",
    "        accumulated_similarity = np.zeros((len(subset), len(subset)))\n",
    "        for sim, weight in zip(similarities, weights):\n",
    "            accumulated_similarity += (sim * weight)\n",
    "\n",
    "    top_ids = pd.DataFrame(compute_in_batches_topIds(accumulated_similarity, subset_ids, 100, 10), subset_ids)\n",
    "    \n",
    "    map10, mrr10, ndcg10 = getMetrics(top_ids, 10, genres, relevant_results_by_id)\n",
    "    return {\n",
    "        \"MAP@10\": map10,\n",
    "        \"MRR@10\": mrr10,\n",
    "        \"NDCG@10\": ndcg10,\n",
    "    }"
   ]
  },
  {
   "cell_type": "code",
   "execution_count": 18,
   "id": "d97ac1f4",
   "metadata": {},
   "outputs": [
    {
     "name": "stderr",
     "output_type": "stream",
     "text": [
      "100%|███████████████████████████████████████████| 10/10 [00:00<00:00, 23.92it/s]\n",
      "100%|█████████████████████████████████████| 4096/4096 [00:03<00:00, 1077.18it/s]"
     ]
    },
    {
     "name": "stdout",
     "output_type": "stream",
     "text": [
      "Baseline {'MAP@10': 0.520131360258495, 'MRR@10': 0.6203880673363096, 'NDCG@10': 0.414009972032934}\n"
     ]
    },
    {
     "name": "stderr",
     "output_type": "stream",
     "text": [
      "\n"
     ]
    }
   ],
   "source": [
    "print(\"Baseline\", evaluate(similarities, np.zeros((len(similarities),))))"
   ]
  },
  {
   "cell_type": "code",
   "execution_count": 19,
   "id": "22d3e85e",
   "metadata": {},
   "outputs": [
    {
     "name": "stderr",
     "output_type": "stream",
     "text": [
      "100%|███████████████████████████████████████████| 10/10 [00:01<00:00,  9.65it/s]\n",
      "100%|█████████████████████████████████████| 4096/4096 [00:03<00:00, 1064.97it/s]"
     ]
    },
    {
     "name": "stdout",
     "output_type": "stream",
     "text": [
      "Fair {'MAP@10': 0.8072114897459092, 'MRR@10': 1.0, 'NDCG@10': 0.5599119154594183}\n"
     ]
    },
    {
     "name": "stderr",
     "output_type": "stream",
     "text": [
      "\n"
     ]
    }
   ],
   "source": [
    "print(\"Fair\", evaluate(similarities, np.ones((len(similarities),))))"
   ]
  },
  {
   "cell_type": "code",
   "execution_count": 20,
   "id": "67f7442e",
   "metadata": {},
   "outputs": [
    {
     "name": "stderr",
     "output_type": "stream",
     "text": [
      "100%|███████████████████████████████████████████| 10/10 [00:01<00:00,  9.98it/s]\n",
      "100%|█████████████████████████████████████| 4096/4096 [00:03<00:00, 1067.82it/s]\n"
     ]
    },
    {
     "name": "stdout",
     "output_type": "stream",
     "text": [
      "[0.79772443 0.99987793 0.55034057]\n"
     ]
    },
    {
     "name": "stderr",
     "output_type": "stream",
     "text": [
      "100%|███████████████████████████████████████████| 10/10 [00:00<00:00, 10.06it/s]\n",
      "100%|█████████████████████████████████████| 4096/4096 [00:03<00:00, 1094.26it/s]\n"
     ]
    },
    {
     "name": "stdout",
     "output_type": "stream",
     "text": [
      "[0.79703637 0.99987793 0.54222581]\n"
     ]
    },
    {
     "name": "stderr",
     "output_type": "stream",
     "text": [
      "100%|███████████████████████████████████████████| 10/10 [00:00<00:00, 10.09it/s]\n",
      "100%|█████████████████████████████████████| 4096/4096 [00:03<00:00, 1082.58it/s]\n"
     ]
    },
    {
     "name": "stdout",
     "output_type": "stream",
     "text": [
      "[0.8026844  0.99987793 0.5590795 ]\n"
     ]
    },
    {
     "name": "stderr",
     "output_type": "stream",
     "text": [
      "100%|███████████████████████████████████████████| 10/10 [00:00<00:00, 10.02it/s]\n",
      "100%|█████████████████████████████████████| 4096/4096 [00:03<00:00, 1069.62it/s]\n"
     ]
    },
    {
     "name": "stdout",
     "output_type": "stream",
     "text": [
      "[0.80795124 0.99987793 0.56015263]\n"
     ]
    },
    {
     "name": "stderr",
     "output_type": "stream",
     "text": [
      "100%|███████████████████████████████████████████| 10/10 [00:01<00:00,  9.76it/s]\n",
      "100%|█████████████████████████████████████| 4096/4096 [00:04<00:00, 1008.55it/s]\n"
     ]
    },
    {
     "name": "stdout",
     "output_type": "stream",
     "text": [
      "[0.80727532 1.         0.56099649]\n"
     ]
    },
    {
     "name": "stderr",
     "output_type": "stream",
     "text": [
      "100%|███████████████████████████████████████████| 10/10 [00:01<00:00,  9.50it/s]\n",
      "100%|█████████████████████████████████████| 4096/4096 [00:03<00:00, 1028.82it/s]\n"
     ]
    },
    {
     "name": "stdout",
     "output_type": "stream",
     "text": [
      "[0.801461   1.         0.55066502]\n"
     ]
    },
    {
     "name": "stderr",
     "output_type": "stream",
     "text": [
      "100%|███████████████████████████████████████████| 10/10 [00:01<00:00,  9.78it/s]\n",
      "100%|█████████████████████████████████████| 4096/4096 [00:03<00:00, 1048.62it/s]"
     ]
    },
    {
     "name": "stdout",
     "output_type": "stream",
     "text": [
      "[0.79887175 1.         0.54834659]\n",
      "[0.78264764 0.77971337 0.78721394 0.78932727 0.78942394 0.784042\n",
      " 0.78240611]\n"
     ]
    },
    {
     "name": "stderr",
     "output_type": "stream",
     "text": [
      "\n"
     ]
    }
   ],
   "source": [
    "weights = np.zeros((len(similarities),))\n",
    "for i, sim in enumerate(similarities):\n",
    "    result = np.nan_to_num(np.asarray(list(evaluate([sim], [1]).values())), copy=False)\n",
    "    print(result)\n",
    "    weights[i] = np.mean(result, where=result > 0)\n",
    "print(weights)"
   ]
  },
  {
   "cell_type": "code",
   "execution_count": 21,
   "id": "3d34e754",
   "metadata": {},
   "outputs": [
    {
     "name": "stdout",
     "output_type": "stream",
     "text": [
      "Weights considering @10 metrics:\n",
      " [0.60387002 0.65596642 0.6858311  0.67812915 0.68066308 0.69186326\n",
      " 0.69831527] \n",
      "Weights considering @100 metrics:\n",
      " [0.57422996 0.62273479 0.65315864 0.64451217 0.64979362 0.63357245\n",
      " 0.63816635]\n"
     ]
    }
   ],
   "source": [
    "features_considered = [\"tfidf\", \"bert\", \"blf_spectral\", \"blf_logfluc\", \"mfcc_bow\", \"incp\", \"resnet\"]\n",
    "metrics_considered_10 = [\"MAP_10\", \"MRR_10\", \"Mean NDCG_10\"]\n",
    "metrics_considered_100 = [\"MAP_100\", \"MRR_100\", \"Mean NDCG_100\"]\n",
    "weights_10 = metrics_cosine_individual.loc[features_considered,metrics_considered_10].mean(axis=1).values\n",
    "weights_100 = metrics_cosine_individual.loc[features_considered,metrics_considered_100].mean(axis=1).values\n",
    "print(\"Weights considering @10 metrics:\\n\",weights_10, \"\\nWeights considering @100 metrics:\\n\",weights_100)"
   ]
  },
  {
   "cell_type": "code",
   "execution_count": 22,
   "id": "21070baa",
   "metadata": {
    "scrolled": true
   },
   "outputs": [
    {
     "name": "stderr",
     "output_type": "stream",
     "text": [
      "100%|███████████████████████████████████████████| 10/10 [00:01<00:00,  9.55it/s]\n",
      "100%|█████████████████████████████████████| 4096/4096 [00:03<00:00, 1043.05it/s]"
     ]
    },
    {
     "name": "stdout",
     "output_type": "stream",
     "text": [
      "Performance {'MAP@10': 0.8075367407343435, 'MRR@10': 1.0, 'NDCG@10': 0.5598964999400058}\n"
     ]
    },
    {
     "name": "stderr",
     "output_type": "stream",
     "text": [
      "\n"
     ]
    }
   ],
   "source": [
    "print(\"Performance\", evaluate(similarities, weights))"
   ]
  },
  {
   "cell_type": "code",
   "execution_count": 23,
   "id": "34793baf",
   "metadata": {},
   "outputs": [
    {
     "name": "stdout",
     "output_type": "stream",
     "text": [
      "[0.3021731  0.         0.77241359 0.9900448  1.         0.44576546\n",
      " 0.27730047]\n"
     ]
    },
    {
     "name": "stderr",
     "output_type": "stream",
     "text": [
      "100%|███████████████████████████████████████████| 10/10 [00:01<00:00,  8.82it/s]\n",
      "100%|█████████████████████████████████████| 4096/4096 [00:04<00:00, 1021.72it/s]"
     ]
    },
    {
     "name": "stdout",
     "output_type": "stream",
     "text": [
      "Normalized Performance {'MAP@10': 0.8078072121702594, 'MRR@10': 1.0, 'NDCG@10': 0.5635511756754903}\n"
     ]
    },
    {
     "name": "stderr",
     "output_type": "stream",
     "text": [
      "\n"
     ]
    }
   ],
   "source": [
    "norm_weights = (weights - weights.min()) / (weights.max() - weights.min())\n",
    "print(norm_weights)\n",
    "print(\"Normalized Performance\", evaluate(similarities, norm_weights))"
   ]
  },
  {
   "cell_type": "code",
   "execution_count": 24,
   "id": "a50731d9",
   "metadata": {},
   "outputs": [
    {
     "name": "stdout",
     "output_type": "stream",
     "text": [
      "Normalized Weights considering @10 metrics:\n",
      " [0.         0.55160421 0.86781581 0.78626641 0.81309598 0.93168511\n",
      " 1.        ] \n",
      "Normalized Weights considering @100 metrics:\n",
      " [0.         0.61453991 1.         0.89045204 0.95736627 0.75184954\n",
      " 0.81005272]\n"
     ]
    },
    {
     "name": "stderr",
     "output_type": "stream",
     "text": [
      "100%|███████████████████████████████████████████| 10/10 [00:01<00:00,  9.39it/s]\n",
      "100%|█████████████████████████████████████| 4096/4096 [00:03<00:00, 1083.99it/s]\n"
     ]
    },
    {
     "name": "stdout",
     "output_type": "stream",
     "text": [
      "Normalized Performance {'MAP@10': 0.8050223639102089, 'MRR@10': 1.0, 'NDCG@10': 0.5565558829068067}\n"
     ]
    },
    {
     "name": "stderr",
     "output_type": "stream",
     "text": [
      "100%|███████████████████████████████████████████| 10/10 [00:01<00:00,  9.77it/s]\n",
      "100%|█████████████████████████████████████| 4096/4096 [00:03<00:00, 1084.92it/s]"
     ]
    },
    {
     "name": "stdout",
     "output_type": "stream",
     "text": [
      "Normalized Performance {'MAP@10': 0.8048238972735723, 'MRR@10': 1.0, 'NDCG@10': 0.5583612006332563}\n"
     ]
    },
    {
     "name": "stderr",
     "output_type": "stream",
     "text": [
      "\n"
     ]
    }
   ],
   "source": [
    "norm_weights_10  = (weights_10  - weights_10.min())  / (weights_10.max()  - weights_10.min())\n",
    "norm_weights_100 = (weights_100 - weights_100.min()) / (weights_100.max() - weights_100.min())\n",
    "print(\"Normalized Weights considering @10 metrics:\\n\",\n",
    "      norm_weights_10, \n",
    "      \"\\nNormalized Weights considering @100 metrics:\\n\",\n",
    "      norm_weights_100)\n",
    "print(\"Normalized Performance @10\", evaluate(similarities, norm_weights_10))\n",
    "print(\"Normalized Performance @100\", evaluate(similarities, norm_weights_100))"
   ]
  },
  {
   "cell_type": "code",
   "execution_count": 25,
   "id": "4058c49e",
   "metadata": {},
   "outputs": [],
   "source": [
    "del similarities"
   ]
  },
  {
   "cell_type": "markdown",
   "id": "52f54ae5",
   "metadata": {},
   "source": [
    "# Final Processing\n",
    "Normalized Performance seems to be the best approach"
   ]
  },
  {
   "cell_type": "code",
   "execution_count": 119,
   "id": "952e699a",
   "metadata": {},
   "outputs": [],
   "source": [
    "final_ids = blf_logfluc.index.values\n",
    "final_accumulated_similarity = np.zeros((len(final_ids), len(final_ids)), dtype=DATA_TYPE)"
   ]
  },
  {
   "cell_type": "code",
   "execution_count": 120,
   "id": "31108340",
   "metadata": {},
   "outputs": [
    {
     "name": "stderr",
     "output_type": "stream",
     "text": [
      "100%|█████████████████████████████████████████| 100/100 [01:22<00:00,  1.21it/s]\n"
     ]
    },
    {
     "name": "stdout",
     "output_type": "stream",
     "text": [
      "Sanity Check 0.0\n"
     ]
    },
    {
     "name": "stderr",
     "output_type": "stream",
     "text": [
      "100%|█████████████████████████████████████████| 100/100 [01:08<00:00,  1.45it/s]\n"
     ]
    },
    {
     "name": "stdout",
     "output_type": "stream",
     "text": [
      "Sanity Check 0.007916106\n"
     ]
    },
    {
     "name": "stderr",
     "output_type": "stream",
     "text": [
      "100%|█████████████████████████████████████████| 100/100 [01:16<00:00,  1.31it/s]\n"
     ]
    },
    {
     "name": "stdout",
     "output_type": "stream",
     "text": [
      "Sanity Check 0.011529818\n"
     ]
    },
    {
     "name": "stderr",
     "output_type": "stream",
     "text": [
      "100%|█████████████████████████████████████████| 100/100 [03:06<00:00,  1.86s/it]\n"
     ]
    },
    {
     "name": "stdout",
     "output_type": "stream",
     "text": [
      "Sanity Check -0.0460713\n"
     ]
    },
    {
     "name": "stderr",
     "output_type": "stream",
     "text": [
      "100%|█████████████████████████████████████████| 100/100 [00:59<00:00,  1.67it/s]\n"
     ]
    },
    {
     "name": "stdout",
     "output_type": "stream",
     "text": [
      "Sanity Check -0.053062297\n"
     ]
    },
    {
     "name": "stderr",
     "output_type": "stream",
     "text": [
      "100%|█████████████████████████████████████████| 100/100 [03:31<00:00,  2.11s/it]\n"
     ]
    },
    {
     "name": "stdout",
     "output_type": "stream",
     "text": [
      "Sanity Check -0.08761212\n"
     ]
    },
    {
     "name": "stderr",
     "output_type": "stream",
     "text": [
      "100%|█████████████████████████████████████████| 100/100 [03:27<00:00,  2.07s/it]"
     ]
    },
    {
     "name": "stdout",
     "output_type": "stream",
     "text": [
      "Sanity Check -0.109552905\n"
     ]
    },
    {
     "name": "stderr",
     "output_type": "stream",
     "text": [
      "\n"
     ]
    }
   ],
   "source": [
    "# for every data\n",
    "batches = 100\n",
    "i = 0\n",
    "for d in files:\n",
    "    file = load_data(d).to_numpy()\n",
    "    for f in functions:\n",
    "        splits = np.array_split(file, batches, axis=0)\n",
    "        y = 0\n",
    "        for b in tqdm(splits):\n",
    "            result = f(file, b).astype(np.float32)\n",
    "\n",
    "            result = np.nan_to_num(result, copy=False)\n",
    "\n",
    "            # normalize\n",
    "            np.subtract(result, result.mean(), out=result)\n",
    "\n",
    "            # normalize std and apply weight\n",
    "            result = np.multiply(result, norm_weights_100[i] / result[::64, ::64].std(), out=result)\n",
    "\n",
    "            final_accumulated_similarity[:, y:y + b.shape[0]] += result\n",
    "            y += b.shape[0]\n",
    "        print(\"Sanity Check\", final_accumulated_similarity[:1024, :1024].mean())\n",
    "        i += 1"
   ]
  },
  {
   "cell_type": "code",
   "execution_count": 121,
   "id": "5e9065cf",
   "metadata": {},
   "outputs": [],
   "source": [
    "# replace diagonals by -inf to prevent them being picked\n",
    "np.fill_diagonal(final_accumulated_similarity, -np.inf)"
   ]
  },
  {
   "cell_type": "code",
   "execution_count": 122,
   "id": "23884f7b",
   "metadata": {},
   "outputs": [],
   "source": [
    "np.save(\"final_similarity.p\", final_accumulated_similarity)"
   ]
  },
  {
   "cell_type": "code",
   "execution_count": 123,
   "id": "e0beba2f",
   "metadata": {},
   "outputs": [
    {
     "name": "stderr",
     "output_type": "stream",
     "text": [
      "100%|█████████████████████████████████████████| 100/100 [07:08<00:00,  4.28s/it]\n"
     ]
    }
   ],
   "source": [
    "top_ids = pd.DataFrame(compute_in_batches_topIds(final_accumulated_similarity, final_ids, 100, 100), final_ids)"
   ]
  },
  {
   "cell_type": "code",
   "execution_count": 124,
   "id": "10213bc8",
   "metadata": {},
   "outputs": [],
   "source": [
    "dt.Frame(pd.DataFrame(top_ids, index=final_ids).reset_index()).to_csv('./top_ids_late_fusion_test.csv')"
   ]
  },
  {
   "cell_type": "code",
   "execution_count": 125,
   "id": "f5c6e6e5",
   "metadata": {},
   "outputs": [
    {
     "data": {
      "text/html": [
       "<div>\n",
       "<style scoped>\n",
       "    .dataframe tbody tr th:only-of-type {\n",
       "        vertical-align: middle;\n",
       "    }\n",
       "\n",
       "    .dataframe tbody tr th {\n",
       "        vertical-align: top;\n",
       "    }\n",
       "\n",
       "    .dataframe thead th {\n",
       "        text-align: right;\n",
       "    }\n",
       "</style>\n",
       "<table border=\"1\" class=\"dataframe\">\n",
       "  <thead>\n",
       "    <tr style=\"text-align: right;\">\n",
       "      <th></th>\n",
       "      <th>0</th>\n",
       "      <th>1</th>\n",
       "      <th>2</th>\n",
       "      <th>3</th>\n",
       "      <th>4</th>\n",
       "      <th>5</th>\n",
       "      <th>6</th>\n",
       "      <th>7</th>\n",
       "      <th>8</th>\n",
       "      <th>9</th>\n",
       "      <th>...</th>\n",
       "      <th>90</th>\n",
       "      <th>91</th>\n",
       "      <th>92</th>\n",
       "      <th>93</th>\n",
       "      <th>94</th>\n",
       "      <th>95</th>\n",
       "      <th>96</th>\n",
       "      <th>97</th>\n",
       "      <th>98</th>\n",
       "      <th>99</th>\n",
       "    </tr>\n",
       "  </thead>\n",
       "  <tbody>\n",
       "    <tr>\n",
       "      <th>0009fFIM1eYThaPg</th>\n",
       "      <td>PHYuZDQa15QV9Rlc</td>\n",
       "      <td>Uly30J1KEdC9awfI</td>\n",
       "      <td>aLdUurk83dJm8w7W</td>\n",
       "      <td>wLrYaZGgflCudkS2</td>\n",
       "      <td>yLDYDyhZ3FFmc2Ys</td>\n",
       "      <td>fyQyjwU2vsgFEl1r</td>\n",
       "      <td>dw8IkK4rPlDamYsd</td>\n",
       "      <td>U3Zo3ToDKW72HNlb</td>\n",
       "      <td>UMahojluDMtosnva</td>\n",
       "      <td>CY2PCIr7j680lCzs</td>\n",
       "      <td>...</td>\n",
       "      <td>KQNFVVsibe52n7lE</td>\n",
       "      <td>ZOTTT1zf1urrHMV2</td>\n",
       "      <td>Rh4Bn2msKgz7m3YE</td>\n",
       "      <td>TPpooNuXSy6lsRip</td>\n",
       "      <td>wo3249plMXd8cM0R</td>\n",
       "      <td>1eunHqu243peeQtE</td>\n",
       "      <td>HIon1AMiKfDZzk9K</td>\n",
       "      <td>ZIBXdQ5DxrjQhzhH</td>\n",
       "      <td>0LAm6RiCVmW0kxld</td>\n",
       "      <td>GAeGNMTGrp6ky2um</td>\n",
       "    </tr>\n",
       "    <tr>\n",
       "      <th>0010xmHR6UICBOYT</th>\n",
       "      <td>tvsZaTDnNqZPZiQC</td>\n",
       "      <td>zp3KKKwIyeSDbrkf</td>\n",
       "      <td>MVdLRZiR3M35J4b0</td>\n",
       "      <td>SSogs1SYlokISgEq</td>\n",
       "      <td>Awwf1OBE6Q6vbyum</td>\n",
       "      <td>A2Sjds83oq6NW2D4</td>\n",
       "      <td>7JVOiEwXe5SwTgzT</td>\n",
       "      <td>TQ6fkPLslfSQORvf</td>\n",
       "      <td>9w9gcgpKBBcZMXHL</td>\n",
       "      <td>L2TXDgiHNytj8HRk</td>\n",
       "      <td>...</td>\n",
       "      <td>mfwyHt6r4y7cCgnP</td>\n",
       "      <td>xjqBYyCebMEDc7Id</td>\n",
       "      <td>xjPbsW9OgACGpbD5</td>\n",
       "      <td>LKyKOXUr3NkTOYNe</td>\n",
       "      <td>TcClCCLPQHTLN5BX</td>\n",
       "      <td>phrRAxDxoOmOm2VH</td>\n",
       "      <td>vPzYDzVCnl1K1ihn</td>\n",
       "      <td>JPOLE03VfYw9GZyc</td>\n",
       "      <td>n7qIV7kovU9P5OIo</td>\n",
       "      <td>dmuMejFkWiSKKHIs</td>\n",
       "    </tr>\n",
       "    <tr>\n",
       "      <th>002Jyd0vN4HyCpqL</th>\n",
       "      <td>2S9Tq0XzZ7iAovKv</td>\n",
       "      <td>wQyodz8psUzd3447</td>\n",
       "      <td>2ByaOIPZJ7irmkKG</td>\n",
       "      <td>lwjCqRX8vexafTOd</td>\n",
       "      <td>foVvryczNWG8CoFR</td>\n",
       "      <td>RTVljF6OFjepeQgq</td>\n",
       "      <td>R73XiLEKVA7gs36b</td>\n",
       "      <td>1OM5El3UXnKVVTtN</td>\n",
       "      <td>7QDB0NEIsUDbZWSP</td>\n",
       "      <td>TrUXW5OQ9OaNgKmX</td>\n",
       "      <td>...</td>\n",
       "      <td>eKFLMuJWGfeCig5p</td>\n",
       "      <td>Rxx3qPyrMMyfvB7V</td>\n",
       "      <td>FqoLwE9pXVu1kSb6</td>\n",
       "      <td>Vt0evHg09P5QY0Vc</td>\n",
       "      <td>gJDG0Azt0Oe7qIKZ</td>\n",
       "      <td>fMxtMdUVUooRnFv3</td>\n",
       "      <td>YHupaKUf3ndWCU0v</td>\n",
       "      <td>lS0plxOmG29oGgJg</td>\n",
       "      <td>2Utl2NhhjRa2p5Xu</td>\n",
       "      <td>ET5DOul1I2cnXil0</td>\n",
       "    </tr>\n",
       "    <tr>\n",
       "      <th>006TYKNjNxWjfKjy</th>\n",
       "      <td>0oe2d23jio9Uyg49</td>\n",
       "      <td>U3KiFNPvWCXhOuPm</td>\n",
       "      <td>zI3j3T5qkiylIBaD</td>\n",
       "      <td>wR4F3A90kVplf4bJ</td>\n",
       "      <td>UceDke4Q33GCS6nY</td>\n",
       "      <td>LbKaKfHDu7qbcF45</td>\n",
       "      <td>q0H90swl2jbhmN33</td>\n",
       "      <td>7xXPEA7GTgetirvj</td>\n",
       "      <td>XAV6f5jnhKNBZ5Uv</td>\n",
       "      <td>lVxQcb44bWLXjIKS</td>\n",
       "      <td>...</td>\n",
       "      <td>7QBaCghqJ4kN9Xju</td>\n",
       "      <td>I1xe2qFofypXrh3e</td>\n",
       "      <td>9AReP2499tVpr8zf</td>\n",
       "      <td>O4Jos6slSYWyJ1KT</td>\n",
       "      <td>gilVuAjVhRUYDyal</td>\n",
       "      <td>Y8uKE3rK9JpiiMJx</td>\n",
       "      <td>chkKFoRchCEWp04Z</td>\n",
       "      <td>IZG8JFzdF8qY24XU</td>\n",
       "      <td>lqT19WfqMtplTXha</td>\n",
       "      <td>6jTNLP3p3mpmEJyL</td>\n",
       "    </tr>\n",
       "    <tr>\n",
       "      <th>007LIJOPQ4Sb98qV</th>\n",
       "      <td>cyRMqYRBDcRleNsa</td>\n",
       "      <td>qsmfGwfCd4FFaDet</td>\n",
       "      <td>wOhO1MgW1CcEKaAx</td>\n",
       "      <td>S1rroi8TiRqPNWDX</td>\n",
       "      <td>ljHcf8k4kcRQ525P</td>\n",
       "      <td>053TqfoRuva4bHoj</td>\n",
       "      <td>byCM04NPd9bD0SEW</td>\n",
       "      <td>0Hhuy13DlIS8loEY</td>\n",
       "      <td>t5NHA3VKvjlBxk8Y</td>\n",
       "      <td>atbVc1L7CNJTbM14</td>\n",
       "      <td>...</td>\n",
       "      <td>q3QjZmXncdv89Bu3</td>\n",
       "      <td>GDqJrwcTkgK7NQJ7</td>\n",
       "      <td>CcU6Z5YxEcuSeBYM</td>\n",
       "      <td>ixdMVnnFtQb9d6fA</td>\n",
       "      <td>uERrHBJajOBQM3r2</td>\n",
       "      <td>a2bC8PID2eQzeNFn</td>\n",
       "      <td>BX7jubmUk9FgMxmO</td>\n",
       "      <td>QdXlbqjwbM6KICSb</td>\n",
       "      <td>uBYnZ4kGBmdpEPmh</td>\n",
       "      <td>If0UmHl6wDMm6pxZ</td>\n",
       "    </tr>\n",
       "    <tr>\n",
       "      <th>...</th>\n",
       "      <td>...</td>\n",
       "      <td>...</td>\n",
       "      <td>...</td>\n",
       "      <td>...</td>\n",
       "      <td>...</td>\n",
       "      <td>...</td>\n",
       "      <td>...</td>\n",
       "      <td>...</td>\n",
       "      <td>...</td>\n",
       "      <td>...</td>\n",
       "      <td>...</td>\n",
       "      <td>...</td>\n",
       "      <td>...</td>\n",
       "      <td>...</td>\n",
       "      <td>...</td>\n",
       "      <td>...</td>\n",
       "      <td>...</td>\n",
       "      <td>...</td>\n",
       "      <td>...</td>\n",
       "      <td>...</td>\n",
       "      <td>...</td>\n",
       "    </tr>\n",
       "    <tr>\n",
       "      <th>zzx8CWdM7qkxKQpC</th>\n",
       "      <td>pF2UjM0abOPwWfBm</td>\n",
       "      <td>1WmILK0emIsdTSl2</td>\n",
       "      <td>CGz0z5iv0jZmIa7X</td>\n",
       "      <td>jBflH3Pbnmu6w9PN</td>\n",
       "      <td>ZE8BGOMLs4haWgrz</td>\n",
       "      <td>Ix3E8QzXaW2l60z0</td>\n",
       "      <td>UEH28vtjfDBIbDRd</td>\n",
       "      <td>ZCmYDEN9oVJu03HY</td>\n",
       "      <td>aRdWAZwTojMjsxbN</td>\n",
       "      <td>jUt92xv9HKrFID8G</td>\n",
       "      <td>...</td>\n",
       "      <td>dcyOoMBVWuoptXdn</td>\n",
       "      <td>Nm2A0A2FojNYTKiQ</td>\n",
       "      <td>K0UTWVBEh7A8hUAM</td>\n",
       "      <td>9fb5miQdgj3NV720</td>\n",
       "      <td>7WCzT2gCk8Qq50AH</td>\n",
       "      <td>7nrWxLXgH9oTDozL</td>\n",
       "      <td>Bo8FpTTaGWX20eZX</td>\n",
       "      <td>UrtAuKMvJaYEhJHy</td>\n",
       "      <td>RiYyZ7GvntHmjG1L</td>\n",
       "      <td>wLsmR9w5wTbaL6AI</td>\n",
       "    </tr>\n",
       "    <tr>\n",
       "      <th>zzyb5LvKJTWLVnrk</th>\n",
       "      <td>0Pn0EYWzup45hJB5</td>\n",
       "      <td>D5z0dWO50sLyTDWE</td>\n",
       "      <td>3bejCrhNQlm97r9A</td>\n",
       "      <td>qaeZAwbRSlV5IB4o</td>\n",
       "      <td>1c0qoBueLYugXqQq</td>\n",
       "      <td>nCpr1adAFNm7flwN</td>\n",
       "      <td>W89wMsilBSmysiw4</td>\n",
       "      <td>SPnjOznLAalAxf30</td>\n",
       "      <td>A0THNQJasLtFoBBj</td>\n",
       "      <td>0UF21Ipg9OUQh3Rs</td>\n",
       "      <td>...</td>\n",
       "      <td>pF5dqrJwRreBWon6</td>\n",
       "      <td>2ZFMLcQ9rWNndcLi</td>\n",
       "      <td>JZO5uFJP3uUonss4</td>\n",
       "      <td>BrDKQo2gQvStSlEp</td>\n",
       "      <td>P8Cy3Ax7KtsCrIPU</td>\n",
       "      <td>oHzidGPUYlkSnAO1</td>\n",
       "      <td>dC403UAHdfIblZ3a</td>\n",
       "      <td>CGZyuzZLcwkoiUW5</td>\n",
       "      <td>umLVO58k5TGDNO7W</td>\n",
       "      <td>nvyoRFZVyjBwBMlS</td>\n",
       "    </tr>\n",
       "    <tr>\n",
       "      <th>zzz0n04uuTUA7fNh</th>\n",
       "      <td>ldBb9ph0mF5speiz</td>\n",
       "      <td>qHfZgrnidIOsiZph</td>\n",
       "      <td>U003NP8GAkh58HKP</td>\n",
       "      <td>9gFGFPGnvnOgKNCp</td>\n",
       "      <td>SMnpUHHEhMdLJqJ2</td>\n",
       "      <td>ZJEmQhq6tEm0FFfA</td>\n",
       "      <td>uRNge3sN74NdIaYi</td>\n",
       "      <td>8sufJfhyteY1VXr7</td>\n",
       "      <td>ZQiK2a39fHk4AUuy</td>\n",
       "      <td>2IZjV6srFH5YXkFr</td>\n",
       "      <td>...</td>\n",
       "      <td>czlMQGKVuOTrL0OW</td>\n",
       "      <td>4S8s0vwC5BSH2Npt</td>\n",
       "      <td>h38AVryexbGR1hOY</td>\n",
       "      <td>FjpuaUU3m7bP27e8</td>\n",
       "      <td>2G3Vke7a7vBxZ0qc</td>\n",
       "      <td>9gdfbpxc6bWHZk8j</td>\n",
       "      <td>fGzmpsiijB9s2dGF</td>\n",
       "      <td>mpd8nWUscKpDz9Yt</td>\n",
       "      <td>aFh2EhTk1dt8MwV6</td>\n",
       "      <td>XmbmtmCRZ9c6mVUf</td>\n",
       "    </tr>\n",
       "    <tr>\n",
       "      <th>zzznMjZAKnJJXQSj</th>\n",
       "      <td>m3bU7wEiG8i3QgLU</td>\n",
       "      <td>XSV2iTgL6MBxHuSg</td>\n",
       "      <td>ZkZYGam1rh4ofsot</td>\n",
       "      <td>9EblKA932h5UjT4o</td>\n",
       "      <td>UGqLXvmfFV1mccyr</td>\n",
       "      <td>arJV2x5YxfzhWhHT</td>\n",
       "      <td>igPQmB6xcoLu5kvm</td>\n",
       "      <td>ZyYqsjDXfsUzGUOG</td>\n",
       "      <td>Qr5OyRAwsoWpAUCZ</td>\n",
       "      <td>7PCTOXUwR2lO6jQy</td>\n",
       "      <td>...</td>\n",
       "      <td>1Gp0KRB1Uge4r8EX</td>\n",
       "      <td>Hq6PYAuJnjnVleH7</td>\n",
       "      <td>L8D6pJk1t29Q12JI</td>\n",
       "      <td>JP07B6JyIek40VBe</td>\n",
       "      <td>SgBvRaxOi7XaDEmU</td>\n",
       "      <td>7QgcMKJoKBlXzX2n</td>\n",
       "      <td>TyR2s4rEgr4kpajt</td>\n",
       "      <td>BqN9q6xrn5AmmXE5</td>\n",
       "      <td>6egVjrcc60M43i5N</td>\n",
       "      <td>7alHkTpqV2cbf8G6</td>\n",
       "    </tr>\n",
       "    <tr>\n",
       "      <th>zzzwh2ktIWjsR7xp</th>\n",
       "      <td>9KZb73R25O5HJP1U</td>\n",
       "      <td>rnTWTBleJFbtubSI</td>\n",
       "      <td>CCLPFTiJhlgZlcj2</td>\n",
       "      <td>XDwp5cUhFhxKSaoW</td>\n",
       "      <td>XmCrBstiddSXAW7Y</td>\n",
       "      <td>HLgUGjhOvLko6SIi</td>\n",
       "      <td>63MdooZm2iiZyll2</td>\n",
       "      <td>1lhDOBoSftrYQJ1Y</td>\n",
       "      <td>B9jpPwmNfn6sYFIB</td>\n",
       "      <td>Bxe5MiHRcyCWVFkM</td>\n",
       "      <td>...</td>\n",
       "      <td>qz0U83vexpH0lRgA</td>\n",
       "      <td>e2KGaSN5DTg4K1BE</td>\n",
       "      <td>wQSlQseJzqmGZgkD</td>\n",
       "      <td>6VDM3q5I6wMor7rH</td>\n",
       "      <td>PiCTkOJk1PudF74y</td>\n",
       "      <td>Xc4DO3qE0GaEIDDc</td>\n",
       "      <td>TqXrmvtxK1enpBbZ</td>\n",
       "      <td>lmx8hofKGbp7YhXp</td>\n",
       "      <td>ZMVkqhHXJLAyWsum</td>\n",
       "      <td>GzWTyUhr0Xg1yxfM</td>\n",
       "    </tr>\n",
       "  </tbody>\n",
       "</table>\n",
       "<p>68641 rows × 100 columns</p>\n",
       "</div>"
      ],
      "text/plain": [
       "                                0                 1                 2   \\\n",
       "0009fFIM1eYThaPg  PHYuZDQa15QV9Rlc  Uly30J1KEdC9awfI  aLdUurk83dJm8w7W   \n",
       "0010xmHR6UICBOYT  tvsZaTDnNqZPZiQC  zp3KKKwIyeSDbrkf  MVdLRZiR3M35J4b0   \n",
       "002Jyd0vN4HyCpqL  2S9Tq0XzZ7iAovKv  wQyodz8psUzd3447  2ByaOIPZJ7irmkKG   \n",
       "006TYKNjNxWjfKjy  0oe2d23jio9Uyg49  U3KiFNPvWCXhOuPm  zI3j3T5qkiylIBaD   \n",
       "007LIJOPQ4Sb98qV  cyRMqYRBDcRleNsa  qsmfGwfCd4FFaDet  wOhO1MgW1CcEKaAx   \n",
       "...                            ...               ...               ...   \n",
       "zzx8CWdM7qkxKQpC  pF2UjM0abOPwWfBm  1WmILK0emIsdTSl2  CGz0z5iv0jZmIa7X   \n",
       "zzyb5LvKJTWLVnrk  0Pn0EYWzup45hJB5  D5z0dWO50sLyTDWE  3bejCrhNQlm97r9A   \n",
       "zzz0n04uuTUA7fNh  ldBb9ph0mF5speiz  qHfZgrnidIOsiZph  U003NP8GAkh58HKP   \n",
       "zzznMjZAKnJJXQSj  m3bU7wEiG8i3QgLU  XSV2iTgL6MBxHuSg  ZkZYGam1rh4ofsot   \n",
       "zzzwh2ktIWjsR7xp  9KZb73R25O5HJP1U  rnTWTBleJFbtubSI  CCLPFTiJhlgZlcj2   \n",
       "\n",
       "                                3                 4                 5   \\\n",
       "0009fFIM1eYThaPg  wLrYaZGgflCudkS2  yLDYDyhZ3FFmc2Ys  fyQyjwU2vsgFEl1r   \n",
       "0010xmHR6UICBOYT  SSogs1SYlokISgEq  Awwf1OBE6Q6vbyum  A2Sjds83oq6NW2D4   \n",
       "002Jyd0vN4HyCpqL  lwjCqRX8vexafTOd  foVvryczNWG8CoFR  RTVljF6OFjepeQgq   \n",
       "006TYKNjNxWjfKjy  wR4F3A90kVplf4bJ  UceDke4Q33GCS6nY  LbKaKfHDu7qbcF45   \n",
       "007LIJOPQ4Sb98qV  S1rroi8TiRqPNWDX  ljHcf8k4kcRQ525P  053TqfoRuva4bHoj   \n",
       "...                            ...               ...               ...   \n",
       "zzx8CWdM7qkxKQpC  jBflH3Pbnmu6w9PN  ZE8BGOMLs4haWgrz  Ix3E8QzXaW2l60z0   \n",
       "zzyb5LvKJTWLVnrk  qaeZAwbRSlV5IB4o  1c0qoBueLYugXqQq  nCpr1adAFNm7flwN   \n",
       "zzz0n04uuTUA7fNh  9gFGFPGnvnOgKNCp  SMnpUHHEhMdLJqJ2  ZJEmQhq6tEm0FFfA   \n",
       "zzznMjZAKnJJXQSj  9EblKA932h5UjT4o  UGqLXvmfFV1mccyr  arJV2x5YxfzhWhHT   \n",
       "zzzwh2ktIWjsR7xp  XDwp5cUhFhxKSaoW  XmCrBstiddSXAW7Y  HLgUGjhOvLko6SIi   \n",
       "\n",
       "                                6                 7                 8   \\\n",
       "0009fFIM1eYThaPg  dw8IkK4rPlDamYsd  U3Zo3ToDKW72HNlb  UMahojluDMtosnva   \n",
       "0010xmHR6UICBOYT  7JVOiEwXe5SwTgzT  TQ6fkPLslfSQORvf  9w9gcgpKBBcZMXHL   \n",
       "002Jyd0vN4HyCpqL  R73XiLEKVA7gs36b  1OM5El3UXnKVVTtN  7QDB0NEIsUDbZWSP   \n",
       "006TYKNjNxWjfKjy  q0H90swl2jbhmN33  7xXPEA7GTgetirvj  XAV6f5jnhKNBZ5Uv   \n",
       "007LIJOPQ4Sb98qV  byCM04NPd9bD0SEW  0Hhuy13DlIS8loEY  t5NHA3VKvjlBxk8Y   \n",
       "...                            ...               ...               ...   \n",
       "zzx8CWdM7qkxKQpC  UEH28vtjfDBIbDRd  ZCmYDEN9oVJu03HY  aRdWAZwTojMjsxbN   \n",
       "zzyb5LvKJTWLVnrk  W89wMsilBSmysiw4  SPnjOznLAalAxf30  A0THNQJasLtFoBBj   \n",
       "zzz0n04uuTUA7fNh  uRNge3sN74NdIaYi  8sufJfhyteY1VXr7  ZQiK2a39fHk4AUuy   \n",
       "zzznMjZAKnJJXQSj  igPQmB6xcoLu5kvm  ZyYqsjDXfsUzGUOG  Qr5OyRAwsoWpAUCZ   \n",
       "zzzwh2ktIWjsR7xp  63MdooZm2iiZyll2  1lhDOBoSftrYQJ1Y  B9jpPwmNfn6sYFIB   \n",
       "\n",
       "                                9   ...                90                91  \\\n",
       "0009fFIM1eYThaPg  CY2PCIr7j680lCzs  ...  KQNFVVsibe52n7lE  ZOTTT1zf1urrHMV2   \n",
       "0010xmHR6UICBOYT  L2TXDgiHNytj8HRk  ...  mfwyHt6r4y7cCgnP  xjqBYyCebMEDc7Id   \n",
       "002Jyd0vN4HyCpqL  TrUXW5OQ9OaNgKmX  ...  eKFLMuJWGfeCig5p  Rxx3qPyrMMyfvB7V   \n",
       "006TYKNjNxWjfKjy  lVxQcb44bWLXjIKS  ...  7QBaCghqJ4kN9Xju  I1xe2qFofypXrh3e   \n",
       "007LIJOPQ4Sb98qV  atbVc1L7CNJTbM14  ...  q3QjZmXncdv89Bu3  GDqJrwcTkgK7NQJ7   \n",
       "...                            ...  ...               ...               ...   \n",
       "zzx8CWdM7qkxKQpC  jUt92xv9HKrFID8G  ...  dcyOoMBVWuoptXdn  Nm2A0A2FojNYTKiQ   \n",
       "zzyb5LvKJTWLVnrk  0UF21Ipg9OUQh3Rs  ...  pF5dqrJwRreBWon6  2ZFMLcQ9rWNndcLi   \n",
       "zzz0n04uuTUA7fNh  2IZjV6srFH5YXkFr  ...  czlMQGKVuOTrL0OW  4S8s0vwC5BSH2Npt   \n",
       "zzznMjZAKnJJXQSj  7PCTOXUwR2lO6jQy  ...  1Gp0KRB1Uge4r8EX  Hq6PYAuJnjnVleH7   \n",
       "zzzwh2ktIWjsR7xp  Bxe5MiHRcyCWVFkM  ...  qz0U83vexpH0lRgA  e2KGaSN5DTg4K1BE   \n",
       "\n",
       "                                92                93                94  \\\n",
       "0009fFIM1eYThaPg  Rh4Bn2msKgz7m3YE  TPpooNuXSy6lsRip  wo3249plMXd8cM0R   \n",
       "0010xmHR6UICBOYT  xjPbsW9OgACGpbD5  LKyKOXUr3NkTOYNe  TcClCCLPQHTLN5BX   \n",
       "002Jyd0vN4HyCpqL  FqoLwE9pXVu1kSb6  Vt0evHg09P5QY0Vc  gJDG0Azt0Oe7qIKZ   \n",
       "006TYKNjNxWjfKjy  9AReP2499tVpr8zf  O4Jos6slSYWyJ1KT  gilVuAjVhRUYDyal   \n",
       "007LIJOPQ4Sb98qV  CcU6Z5YxEcuSeBYM  ixdMVnnFtQb9d6fA  uERrHBJajOBQM3r2   \n",
       "...                            ...               ...               ...   \n",
       "zzx8CWdM7qkxKQpC  K0UTWVBEh7A8hUAM  9fb5miQdgj3NV720  7WCzT2gCk8Qq50AH   \n",
       "zzyb5LvKJTWLVnrk  JZO5uFJP3uUonss4  BrDKQo2gQvStSlEp  P8Cy3Ax7KtsCrIPU   \n",
       "zzz0n04uuTUA7fNh  h38AVryexbGR1hOY  FjpuaUU3m7bP27e8  2G3Vke7a7vBxZ0qc   \n",
       "zzznMjZAKnJJXQSj  L8D6pJk1t29Q12JI  JP07B6JyIek40VBe  SgBvRaxOi7XaDEmU   \n",
       "zzzwh2ktIWjsR7xp  wQSlQseJzqmGZgkD  6VDM3q5I6wMor7rH  PiCTkOJk1PudF74y   \n",
       "\n",
       "                                95                96                97  \\\n",
       "0009fFIM1eYThaPg  1eunHqu243peeQtE  HIon1AMiKfDZzk9K  ZIBXdQ5DxrjQhzhH   \n",
       "0010xmHR6UICBOYT  phrRAxDxoOmOm2VH  vPzYDzVCnl1K1ihn  JPOLE03VfYw9GZyc   \n",
       "002Jyd0vN4HyCpqL  fMxtMdUVUooRnFv3  YHupaKUf3ndWCU0v  lS0plxOmG29oGgJg   \n",
       "006TYKNjNxWjfKjy  Y8uKE3rK9JpiiMJx  chkKFoRchCEWp04Z  IZG8JFzdF8qY24XU   \n",
       "007LIJOPQ4Sb98qV  a2bC8PID2eQzeNFn  BX7jubmUk9FgMxmO  QdXlbqjwbM6KICSb   \n",
       "...                            ...               ...               ...   \n",
       "zzx8CWdM7qkxKQpC  7nrWxLXgH9oTDozL  Bo8FpTTaGWX20eZX  UrtAuKMvJaYEhJHy   \n",
       "zzyb5LvKJTWLVnrk  oHzidGPUYlkSnAO1  dC403UAHdfIblZ3a  CGZyuzZLcwkoiUW5   \n",
       "zzz0n04uuTUA7fNh  9gdfbpxc6bWHZk8j  fGzmpsiijB9s2dGF  mpd8nWUscKpDz9Yt   \n",
       "zzznMjZAKnJJXQSj  7QgcMKJoKBlXzX2n  TyR2s4rEgr4kpajt  BqN9q6xrn5AmmXE5   \n",
       "zzzwh2ktIWjsR7xp  Xc4DO3qE0GaEIDDc  TqXrmvtxK1enpBbZ  lmx8hofKGbp7YhXp   \n",
       "\n",
       "                                98                99  \n",
       "0009fFIM1eYThaPg  0LAm6RiCVmW0kxld  GAeGNMTGrp6ky2um  \n",
       "0010xmHR6UICBOYT  n7qIV7kovU9P5OIo  dmuMejFkWiSKKHIs  \n",
       "002Jyd0vN4HyCpqL  2Utl2NhhjRa2p5Xu  ET5DOul1I2cnXil0  \n",
       "006TYKNjNxWjfKjy  lqT19WfqMtplTXha  6jTNLP3p3mpmEJyL  \n",
       "007LIJOPQ4Sb98qV  uBYnZ4kGBmdpEPmh  If0UmHl6wDMm6pxZ  \n",
       "...                            ...               ...  \n",
       "zzx8CWdM7qkxKQpC  RiYyZ7GvntHmjG1L  wLsmR9w5wTbaL6AI  \n",
       "zzyb5LvKJTWLVnrk  umLVO58k5TGDNO7W  nvyoRFZVyjBwBMlS  \n",
       "zzz0n04uuTUA7fNh  aFh2EhTk1dt8MwV6  XmbmtmCRZ9c6mVUf  \n",
       "zzznMjZAKnJJXQSj  6egVjrcc60M43i5N  7alHkTpqV2cbf8G6  \n",
       "zzzwh2ktIWjsR7xp  ZMVkqhHXJLAyWsum  GzWTyUhr0Xg1yxfM  \n",
       "\n",
       "[68641 rows x 100 columns]"
      ]
     },
     "execution_count": 125,
     "metadata": {},
     "output_type": "execute_result"
    }
   ],
   "source": [
    "top_ids"
   ]
  },
  {
   "cell_type": "code",
   "execution_count": 126,
   "id": "96b40c74",
   "metadata": {},
   "outputs": [
    {
     "name": "stderr",
     "output_type": "stream",
     "text": [
      "100%|███████████████████████████████████| 68641/68641 [01:00<00:00, 1141.96it/s]\n",
      "100%|████████████████████████████████████| 68641/68641 [01:24<00:00, 814.71it/s]\n"
     ]
    }
   ],
   "source": [
    "map10, mrr10, ndcg10 = getMetrics(top_ids, 10, genres, relevant_results_by_id)\n",
    "map100, mrr100, ndcg100 = getMetrics(top_ids, 100, genres, relevant_results_by_id)\n",
    "results ={\n",
    "    \"MAP@10\": map10,\n",
    "    \"MAP@100\": map100,\n",
    "    \"MRR@10\": mrr10,\n",
    "    \"MRR@100\": mrr100,\n",
    "    \"NDCG@10\": ndcg10,\n",
    "    \"NDCG@100\": ndcg100,\n",
    "}"
   ]
  },
  {
   "cell_type": "code",
   "execution_count": 127,
   "id": "50674be3",
   "metadata": {},
   "outputs": [
    {
     "data": {
      "text/plain": [
       "{'MAP@10': 0.7569790013997189,\n",
       " 'MAP@100': 0.6636791432633635,\n",
       " 'MRR@10': 0.8158885961303614,\n",
       " 'MRR@100': 0.8178115813326634,\n",
       " 'NDCG@10': 0.681603814931831,\n",
       " 'NDCG@100': 0.6371542878933193}"
      ]
     },
     "execution_count": 127,
     "metadata": {},
     "output_type": "execute_result"
    }
   ],
   "source": [
    "results"
   ]
  },
  {
   "cell_type": "code",
   "execution_count": 79,
   "id": "d80d8835",
   "metadata": {},
   "outputs": [
    {
     "data": {
      "text/plain": [
       "{'MAP@10': 0.7577162847911041,\n",
       " 'MAP@100': 0.6589291696147251,\n",
       " 'MRR@10': 0.8179865601636117,\n",
       " 'MRR@100': 0.8199689688761987,\n",
       " 'NDCG@10': 0.680669241568677,\n",
       " 'NDCG@100': 0.6310221049110392}"
      ]
     },
     "execution_count": 79,
     "metadata": {},
     "output_type": "execute_result"
    }
   ],
   "source": [
    "# considering samples with @10\n",
    "results"
   ]
  },
  {
   "cell_type": "code",
   "execution_count": 32,
   "id": "38a4b6d5",
   "metadata": {},
   "outputs": [
    {
     "data": {
      "text/plain": [
       "{'MAP@10': 0.7473254334734364,\n",
       " 'MAP@100': 0.6486563802524675,\n",
       " 'MRR@10': 0.8093814192683672,\n",
       " 'MRR@100': 0.8114731162664771,\n",
       " 'NDCG@10': 0.6685461241485902,\n",
       " 'NDCG@100': 0.6203359765292428}"
      ]
     },
     "execution_count": 32,
     "metadata": {},
     "output_type": "execute_result"
    }
   ],
   "source": [
    "# considering samples with @100\n",
    "results"
   ]
  },
  {
   "cell_type": "code",
   "execution_count": 109,
   "id": "bff0ab51",
   "metadata": {},
   "outputs": [
    {
     "data": {
      "text/plain": [
       "{'MAP@10': 0.7612543309394363,\n",
       " 'MAP@100': 0.6635917544366515,\n",
       " 'MRR@10': 0.8205788721766781,\n",
       " 'MRR@100': 0.822516142818151,\n",
       " 'NDCG@10': 0.6846565677583085,\n",
       " 'NDCG@100': 0.6358935658803938}"
      ]
     },
     "execution_count": 109,
     "metadata": {},
     "output_type": "execute_result"
    }
   ],
   "source": [
    "# considering whole metrics with @10\n",
    "results"
   ]
  },
  {
   "cell_type": "code",
   "execution_count": 128,
   "id": "cb48a8c1",
   "metadata": {},
   "outputs": [
    {
     "data": {
      "text/plain": [
       "{'MAP@10': 0.7569790013997189,\n",
       " 'MAP@100': 0.6636791432633635,\n",
       " 'MRR@10': 0.8158885961303614,\n",
       " 'MRR@100': 0.8178115813326634,\n",
       " 'NDCG@10': 0.681603814931831,\n",
       " 'NDCG@100': 0.6371542878933193}"
      ]
     },
     "execution_count": 128,
     "metadata": {},
     "output_type": "execute_result"
    }
   ],
   "source": [
    "# considering whole metrics with @100\n",
    "results"
   ]
  }
 ],
 "metadata": {
  "kernelspec": {
   "display_name": "Python3 (new)",
   "language": "python",
   "name": "python3"
  },
  "language_info": {
   "codemirror_mode": {
    "name": "ipython",
    "version": 3
   },
   "file_extension": ".py",
   "mimetype": "text/x-python",
   "name": "python",
   "nbconvert_exporter": "python",
   "pygments_lexer": "ipython3",
   "version": "3.8.13"
  },
  "widgets": {
   "application/vnd.jupyter.widget-state+json": {
    "state": {},
    "version_major": 2,
    "version_minor": 0
   }
  }
 },
 "nbformat": 4,
 "nbformat_minor": 5
}
