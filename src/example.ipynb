{
 "cells": [
  {
   "cell_type": "code",
   "execution_count": null,
   "metadata": {
    "collapsed": true,
    "pycharm": {
     "is_executing": true
    }
   },
   "outputs": [],
   "source": [
    "from src.data import get_features\n",
    "from src.similarity_functions import get_jaccard_similarity\n",
    "from src.utils import compute_top_ids_directly, get_mapping"
   ]
  },
  {
   "cell_type": "code",
   "execution_count": 2,
   "outputs": [],
   "source": [
    "# from src import data\n",
    "# data.DATA_SIZE = 1024"
   ],
   "metadata": {
    "collapsed": false
   }
  },
  {
   "cell_type": "code",
   "execution_count": 3,
   "outputs": [],
   "source": [
    "features = get_features(\"blf_delta_spectral\")"
   ],
   "metadata": {
    "collapsed": false
   }
  },
  {
   "cell_type": "code",
   "execution_count": 4,
   "outputs": [],
   "source": [
    "id_to_key, key_to_id = get_mapping(features)"
   ],
   "metadata": {
    "collapsed": false
   }
  },
  {
   "cell_type": "code",
   "execution_count": 5,
   "outputs": [
    {
     "name": "stderr",
     "output_type": "stream",
     "text": [
      " 72%|███████▏  | 72/100 [04:31<01:48,  3.89s/it]/DATA/myprograms_Python/MMSR/src/similarity_functions.py:17: RuntimeWarning: invalid value encountered in divide\n",
      "  return dot_p / (divisor - dot_p)\n",
      "100%|██████████| 100/100 [06:19<00:00,  3.79s/it]\n"
     ]
    }
   ],
   "source": [
    "ranking = compute_top_ids_directly(\n",
    "    features, get_jaccard_similarity, top=100\n",
    ")"
   ],
   "metadata": {
    "collapsed": false
   }
  },
  {
   "cell_type": "code",
   "execution_count": 7,
   "outputs": [
    {
     "data": {
      "text/plain": "['JUaNd8yOUZUF7B1v',\n 'o1rcAtN012DfWrrN',\n 'bu3fY6X2N1TBDqcj',\n 'vNwK0Y7iAnIocQAw',\n 'o5i6byNSS1NltmMs',\n '2GefIZuY4zqJjbEs',\n '18k8zBwdWjomzUEu',\n 'gneBIwNsKZ6KXJEx',\n 'J1EjCuoHOggPweIi',\n 'ncvHlGcIacqFu7FU',\n 'eZK0NP90z9y7FyrU',\n 'PieYellBhTAIi6rt',\n 'FGfqns8uJ7eSVGmA',\n 'rbBqIyreFBO1u9kE',\n 'XrFnD1nVzfyxprq6',\n 'uQQHEOEry1zCH2lx',\n 'ii3iDONilcXXUode',\n 'glOfjfwQ6wdpsL6h',\n 'RTxl4JxK42XPNJGa',\n 'xn4NyozUErg0WIK7',\n 'hGn3H8TDvRdSuvI9',\n '15HonJVnIOojHGD1',\n '0XYAoZmTOhzOtSLr',\n '3LdzemUf7VJqV5KC',\n 'qECRThiPUNA61BPR',\n 'cRasPEM8P9BGbxE9',\n 'UJagupUoheXbVDIK',\n '8hPAjdpB6JHkbbf2',\n '4qzSFulNz52Ssmxs',\n 'reuHTN7HpYNkX23l',\n 'i5oQVOuYHSPEzaFp',\n 'X4XH1dKcLdhrzBym',\n 'lhZTcurnlqgI6DqY',\n 'tab9qAMvEA3YsHBF',\n '93Ng6e1sCZLZsdgs',\n 'hsQhkSSxsusT7gsG',\n '7MQxIWkkHE7SUFCu',\n 'MhmbCdVZ78wvsiJ2',\n 'JuRTgGLQT3mJixbp',\n 'gR6ue6XK45qyBE2y',\n 'vCQDhSl2Gkqf5s6o',\n 'YRLbR1PmeXaiDM8n',\n 'ZLTgggcn9mzPGtBo',\n 'geGgEPDfZD2FuxXP',\n 'GqRfCVycphxXCWZu',\n '3MdGIXDSbZcQxD5R',\n '6FSM3jcUOvPY8oga',\n 'T79eKm1zPyqGC95Q',\n 'HISv7m5hQHdmxOnh',\n 'oxxr5VI25KY0Z9IQ',\n 'K7VnD2hLfrG4Wtkl',\n 'U1KM9VDAn2BbNzxH',\n '7hi2NlQ5fpf7GiWV',\n 'FPHAl6B1diXWyJJ7',\n 'niWCDJ8PxXWX4D9U',\n 'mUO7sRugNEnCuJkY',\n '6qypwr9J0NQN6ors',\n 'lBQ1snhuq7pbw0i5',\n 'IpnNPaq0PL9tQIrX',\n 'DaM6lreTrl3hyfNt',\n '2rBzxeuCzQ7IBlRh',\n 'iy6Cnw73D7Jkkl5g',\n 'fsrAtJbBKRQWoyEq',\n 'NILLuXzFW9CFZG6s',\n '9KzkWdY976M9b66K',\n 'ekdysvr5amXu00SD',\n '2J1mHfFyK91c0E50',\n 'AgCsyJfoEGxqV6I8',\n 'K43MhOsghvFY3D57',\n 'LHPtTx1dmAiKMcd9',\n 'qPyC1HRmel6uTaqv',\n 'jXbRRrZhbCdgDvoH',\n 's91MDkP5FLPCYE3S',\n 'EPq10w8WXMzn6SiM',\n 'kiJBEt54lAP0ud7J',\n 'hpuZ93QhxlJeVfoD',\n 'qrFIhWxmGIr4yLaj',\n 'dWbor42bsLD3hbtk',\n 'QxHjoULkulkKBWCj',\n 'Giz8ErZYlSoThIWd',\n '9AghUs34kbSUkykp',\n 'ekK4nPqBNdyplOTM',\n 'QxWEAHnWpIveR4it',\n 'rDtWrcDp7YmpBf80',\n '3qsDwZIDrRd2ca68',\n 'Ipkq5KV7bax2Lbfq',\n 'reMCyshMxLsooRdU',\n 'QzANJ67QiZWkfokV',\n 'OhKIEiHGjbXclOWB',\n 'd1ygyzzObXCLpSte',\n 'NH6MI27Mo1xTt5Ds',\n 'sIODpb3zyBHdlt0i',\n 'RUvKU2NnD54kKooD',\n 'aQ20HSgSLrs39Vod',\n '9exmxlTlTHKMdbbB',\n 'vQd9ehKDqQIQmN2R',\n 'VdjYK1aY9x0ifhim',\n 'zjdQT3QmdPAPseqP',\n 'GJo8j4EVhBhNs2yk',\n 'DTAMNUmD33MwyUEw']"
     },
     "execution_count": 7,
     "metadata": {},
     "output_type": "execute_result"
    }
   ],
   "source": [
    "[id_to_key[v] for v in ranking.loc[\"4rKvoneNMSpVowD4\"].values]"
   ],
   "metadata": {
    "collapsed": false
   }
  },
  {
   "cell_type": "code",
   "execution_count": 6,
   "outputs": [],
   "source": [],
   "metadata": {
    "collapsed": false
   }
  }
 ],
 "metadata": {
  "kernelspec": {
   "display_name": "Python 3",
   "language": "python",
   "name": "python3"
  },
  "language_info": {
   "codemirror_mode": {
    "name": "ipython",
    "version": 2
   },
   "file_extension": ".py",
   "mimetype": "text/x-python",
   "name": "python",
   "nbconvert_exporter": "python",
   "pygments_lexer": "ipython2",
   "version": "2.7.6"
  }
 },
 "nbformat": 4,
 "nbformat_minor": 0
}
