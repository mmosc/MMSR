{
 "cells": [
  {
   "cell_type": "code",
   "execution_count": null,
   "outputs": [],
   "source": [
    "import numpy as np\n",
    "from scipy.stats import kendalltau\n",
    "from tqdm import tqdm\n",
    "\n",
    "from src import data\n",
    "from src.data import get_features, get_similarity_for\n",
    "from src.evaluation import get_metrics, evaluate_ranking\n",
    "from src.fusion import late_fusion, early_fusion\n",
    "from src.similarity_functions import (\n",
    "    get_jaccard_similarity,\n",
    "    get_cosine_similarity,\n",
    "    get_overlap_similarity,\n",
    ")\n",
    "from src.utils import compute_top_ids_directly"
   ],
   "metadata": {
    "collapsed": false
   }
  },
  {
   "cell_type": "code",
   "execution_count": null,
   "outputs": [],
   "source": [
    "data.DATA_SIZE = 1024\n",
    "\n",
    "TEST_ALL_FUSIONS = True"
   ],
   "metadata": {
    "collapsed": false
   }
  },
  {
   "cell_type": "code",
   "execution_count": null,
   "outputs": [],
   "source": [
    "experiments = []\n",
    "\n",
    "# Single-feature\n",
    "for feature in data.features.keys():\n",
    "    experiments.append(\n",
    "        (\n",
    "            feature + \"_jaccard\",\n",
    "            lambda: compute_top_ids_directly(\n",
    "                get_features(feature), get_jaccard_similarity\n",
    "            ),\n",
    "        )\n",
    "    )\n",
    "    experiments.append(\n",
    "        (\n",
    "            feature + \"_cosine\",\n",
    "            lambda: compute_top_ids_directly(\n",
    "                get_features(feature), get_cosine_similarity\n",
    "            ),\n",
    "        )\n",
    "    )\n",
    "\n",
    "\n",
    "# Add early and late fusion experiments for all combinations of given sets\n",
    "def add_set(lyrics_selection, audio_selection, video_selection, sim_function):\n",
    "    for lyrics in lyrics_selection:\n",
    "        for audio in audio_selection:\n",
    "            for video in video_selection:\n",
    "                sim_function_prefix = (\n",
    "                    \"jaccard\"\n",
    "                    if sim_function == get_jaccard_similarity\n",
    "                    else \"cosine\"\n",
    "                    if sim_function == get_cosine_similarity\n",
    "                    else sim_function.__name__\n",
    "                )\n",
    "\n",
    "                name = f\"early_{lyrics}_{audio}_{video}_{sim_function_prefix}\"\n",
    "                experiments.append((name, lambda: early_fusion([lyrics, audio, video], sim_function)))\n",
    "\n",
    "                name = f\"late_{lyrics}_{audio}_{video}_{sim_function_prefix}\"\n",
    "                experiments.append((name, lambda: late_fusion([lyrics, audio, video], sim_function)))\n",
    "\n",
    "\n",
    "if TEST_ALL_FUSIONS:\n",
    "    add_set(\n",
    "        [\"blf_spectral\", \"blf_logfluc\", \"mfcc_bow\"],\n",
    "        [\"bert\", \"tfidf\"],\n",
    "        [\"incp\", \"resnet\"],\n",
    "        get_cosine_similarity,\n",
    "    )\n",
    "\n",
    "    add_set(\n",
    "        [\"essentia\", \"blf_logfluc\", \"mfcc_stats\"],\n",
    "        [\"bert\", \"tfidf\"],\n",
    "        [\"vgg19\", \"resnet\"],\n",
    "        get_jaccard_similarity,\n",
    "    )\n",
    "else:\n",
    "    raise NotImplementedError()\n",
    "\n",
    "# Large fusions\n",
    "experiments.append((\"early_all_cosine\", lambda: early_fusion(list(data.features.keys()), get_cosine_similarity)))\n",
    "experiments.append((\"early_all_jaccard\", lambda: early_fusion(list(data.features.keys()), get_jaccard_similarity)))\n",
    "experiments.append((\"late_all_cosine\", lambda: late_fusion(list(data.features.keys()), get_cosine_similarity)))\n",
    "experiments.append((\"late_all_jaccard\", lambda: late_fusion(list(data.features.keys()), get_jaccard_similarity)))\n",
    "\n",
    "print(f\"Planned {len(experiments)}\")"
   ],
   "metadata": {
    "collapsed": false
   }
  },
  {
   "cell_type": "code",
   "execution_count": null,
   "outputs": [],
   "source": [
    "relevance_similarity = get_overlap_similarity\n",
    "relevance = get_similarity_for(\"genre_matrix\", relevance_similarity)"
   ],
   "metadata": {
    "collapsed": false
   }
  },
  {
   "cell_type": "code",
   "execution_count": null,
   "outputs": [],
   "source": [
    "metrics = {}\n",
    "for name, experiment in tqdm(experiments, \"Evaluating experiments\"):\n",
    "    top_ids = experiment()\n",
    "\n",
    "    metrics10 = get_metrics(top_ids, relevance, 10)\n",
    "    metrics100 = get_metrics(top_ids, relevance, 100)\n",
    "\n",
    "    metrics[name] = {\n",
    "        \"MAP@10\": metrics10[\"MAP\"],\n",
    "        \"MRR@10\": metrics10[\"MRR\"],\n",
    "        \"NDCG@10\": metrics10[\"NDCG\"],\n",
    "        \"MAP@100\": metrics100[\"MAP\"],\n",
    "        \"MRR@100\": metrics100[\"MRR\"],\n",
    "        \"NDCG@100\": metrics100[\"NDCG\"]\n",
    "    }"
   ],
   "metadata": {
    "collapsed": false
   }
  },
  {
   "cell_type": "code",
   "execution_count": null,
   "outputs": [],
   "source": [
    "RESULTS = 3"
   ],
   "metadata": {
    "collapsed": false
   }
  },
  {
   "cell_type": "code",
   "execution_count": null,
   "outputs": [],
   "source": [
    "best = sorted([(name, metrics[name][\"NDCG@100\"]) for name, _ in experiments], key=lambda a: a[1], reverse=True)[:RESULTS]"
   ],
   "metadata": {
    "collapsed": false
   }
  },
  {
   "cell_type": "code",
   "execution_count": null,
   "outputs": [],
   "source": [
    "best"
   ],
   "metadata": {
    "collapsed": false
   }
  },
  {
   "cell_type": "code",
   "execution_count": null,
   "outputs": [],
   "source": [
    "experiment_lookup = {name: e for name, e in experiments}"
   ],
   "metadata": {
    "collapsed": false
   }
  },
  {
   "cell_type": "code",
   "execution_count": null,
   "outputs": [],
   "source": [
    "correlations = np.zeros((len(best), len(best)))\n",
    "with tqdm(total=len(best) ** 2, desc=\"Calculating correlations\") as t:\n",
    "    for i0, (name0, _) in enumerate(best):\n",
    "        for i1, (name1, _) in enumerate(best):\n",
    "            if name0 != name1:\n",
    "                correlations[i0, i1] = evaluate_ranking(\n",
    "                    experiment_lookup[name0](), experiment_lookup[name1](), lambda y0, y1: kendalltau(y0, y1)[0]\n",
    "                )\n",
    "            t.update()\n",
    "np.fill_diagonal(correlations, 1)"
   ],
   "metadata": {
    "collapsed": false
   }
  },
  {
   "cell_type": "code",
   "execution_count": null,
   "outputs": [],
   "source": [
    "import matplotlib.pyplot as plt\n",
    "\n",
    "labels = [name for name, _ in best]\n",
    "plt.imshow(correlations)\n",
    "plt.axis(\"off\")\n",
    "plt.table([[f\"{correlations[x, y]:.3f}\" for x in range(len(best))] for y in range(len(best))], rowLabels=labels,\n",
    "          colLabels=labels)"
   ],
   "metadata": {
    "collapsed": false
   }
  },
  {
   "cell_type": "code",
   "execution_count": null,
   "outputs": [],
   "source": [],
   "metadata": {
    "collapsed": false
   }
  }
 ],
 "metadata": {
  "kernelspec": {
   "display_name": "Python 3",
   "language": "python",
   "name": "python3"
  },
  "language_info": {
   "codemirror_mode": {
    "name": "ipython",
    "version": 2
   },
   "file_extension": ".py",
   "mimetype": "text/x-python",
   "name": "python",
   "nbconvert_exporter": "python",
   "pygments_lexer": "ipython2",
   "version": "2.7.6"
  }
 },
 "nbformat": 4,
 "nbformat_minor": 0
}
